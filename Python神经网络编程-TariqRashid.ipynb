{
 "cells": [
  {
   "cell_type": "markdown",
   "metadata": {},
   "source": [
    "# 第2章 使用Python进行DIY\n",
    "纸上得来终觉浅，绝知此事须躬行。\n",
    "不积跬步，无以至千里。"
   ]
  },
  {
   "cell_type": "markdown",
   "metadata": {
    "heading_collapsed": true
   },
   "source": [
    "## Python IPython 基础"
   ]
  },
  {
   "cell_type": "code",
   "execution_count": 120,
   "metadata": {
    "hidden": true
   },
   "outputs": [
    {
     "data": {
      "text/plain": [
       "5"
      ]
     },
     "execution_count": 120,
     "metadata": {},
     "output_type": "execute_result"
    }
   ],
   "source": [
    "2 + 3"
   ]
  },
  {
   "cell_type": "code",
   "execution_count": 121,
   "metadata": {
    "hidden": true
   },
   "outputs": [
    {
     "data": {
      "text/plain": [
       "24"
      ]
     },
     "execution_count": 121,
     "metadata": {},
     "output_type": "execute_result"
    }
   ],
   "source": [
    "3 * 8"
   ]
  },
  {
   "cell_type": "code",
   "execution_count": 122,
   "metadata": {
    "hidden": true
   },
   "outputs": [
    {
     "name": "stdout",
     "output_type": "stream",
     "text": [
      "Hello world!\n"
     ]
    }
   ],
   "source": [
    "print(\"Hello world!\")"
   ]
  },
  {
   "cell_type": "code",
   "execution_count": 123,
   "metadata": {
    "hidden": true
   },
   "outputs": [
    {
     "name": "stdout",
     "output_type": "stream",
     "text": [
      "10\n",
      "15\n"
     ]
    }
   ],
   "source": [
    "x = 10\n",
    "print(x)\n",
    "print(x + 5)"
   ]
  },
  {
   "cell_type": "code",
   "execution_count": 124,
   "metadata": {
    "hidden": true
   },
   "outputs": [
    {
     "ename": "NameError",
     "evalue": "name 'z' is not defined",
     "output_type": "error",
     "traceback": [
      "\u001b[0;31m\u001b[0m",
      "\u001b[0;31mNameError\u001b[0mTraceback (most recent call last)",
      "\u001b[0;32m<ipython-input-124-a13862232985>\u001b[0m in \u001b[0;36m<module>\u001b[0;34m\u001b[0m\n\u001b[1;32m      1\u001b[0m \u001b[0;31m# the following is error\u001b[0m\u001b[0;34m\u001b[0m\u001b[0;34m\u001b[0m\u001b[0;34m\u001b[0m\u001b[0m\n\u001b[0;32m----> 2\u001b[0;31m \u001b[0mprint\u001b[0m\u001b[0;34m(\u001b[0m\u001b[0mz\u001b[0m\u001b[0;34m)\u001b[0m\u001b[0;34m\u001b[0m\u001b[0;34m\u001b[0m\u001b[0m\n\u001b[0m",
      "\u001b[0;31mNameError\u001b[0m: name 'z' is not defined"
     ]
    }
   ],
   "source": [
    "# the following is error\n",
    "# print(z)\n",
    "# NameErrorTraceback (most recent call last)\n",
    "# <ipython-input-124-a13862232985> in <module>\n",
    "#       1 # the following is error\n",
    "# ----> 2 print(z)\n",
    "\n",
    "# NameError: name 'z' is not defined"
   ]
  },
  {
   "cell_type": "code",
   "execution_count": 144,
   "metadata": {
    "hidden": true
   },
   "outputs": [
    {
     "data": {
      "text/plain": [
       "range(0, 10)"
      ]
     },
     "execution_count": 144,
     "metadata": {},
     "output_type": "execute_result"
    }
   ],
   "source": [
    "range(10)"
   ]
  },
  {
   "cell_type": "code",
   "execution_count": 145,
   "metadata": {
    "hidden": true
   },
   "outputs": [
    {
     "data": {
      "text/plain": [
       "[0, 1, 2, 3, 4, 5, 6, 7, 8, 9]"
      ]
     },
     "execution_count": 145,
     "metadata": {},
     "output_type": "execute_result"
    }
   ],
   "source": [
    "list(range(10))"
   ]
  },
  {
   "cell_type": "code",
   "execution_count": 146,
   "metadata": {
    "hidden": true
   },
   "outputs": [
    {
     "name": "stdout",
     "output_type": "stream",
     "text": [
      "0\n",
      "The square of 0 is 0\n",
      "1\n",
      "The square of 1 is 1\n",
      "2\n",
      "The square of 2 is 4\n",
      "3\n",
      "The square of 3 is 9\n",
      "4\n",
      "The square of 4 is 16\n",
      "5\n",
      "The square of 5 is 25\n",
      "6\n",
      "The square of 6 is 36\n",
      "7\n",
      "The square of 7 is 49\n",
      "8\n",
      "The square of 8 is 64\n",
      "9\n",
      "The square of 9 is 81\n",
      "done\n"
     ]
    }
   ],
   "source": [
    "for i in range(10):\n",
    "    print(i)\n",
    "    print(\"The square of\", i, \"is\", i*i)\n",
    "    pass\n",
    "print(\"done\")"
   ]
  },
  {
   "cell_type": "code",
   "execution_count": 147,
   "metadata": {
    "hidden": true
   },
   "outputs": [
    {
     "name": "stdout",
     "output_type": "stream",
     "text": [
      "1.5\n",
      "1.6500000000000001\n"
     ]
    }
   ],
   "source": [
    "def avg(x, y):\n",
    "    return (x + y) / 2\n",
    "\n",
    "print(avg(1, 2))\n",
    "print(avg(1.1, 2.2))"
   ]
  },
  {
   "cell_type": "code",
   "execution_count": 148,
   "metadata": {
    "hidden": true
   },
   "outputs": [],
   "source": [
    "import numpy"
   ]
  },
  {
   "cell_type": "code",
   "execution_count": 149,
   "metadata": {
    "hidden": true
   },
   "outputs": [
    {
     "name": "stdout",
     "output_type": "stream",
     "text": [
      "[[0. 0. 0. 0. 0. 0. 0. 0. 0. 0.]\n",
      " [0. 0. 0. 0. 0. 0. 0. 0. 0. 0.]\n",
      " [0. 0. 0. 0. 0. 0. 0. 0. 0. 0.]\n",
      " [0. 0. 0. 0. 0. 0. 0. 0. 0. 0.]]\n",
      "10.0\n",
      "0.0\n",
      "[[ 0.  0.  0.  0.  0.  0.  0.  0.  0.  0.]\n",
      " [ 0. 10.  0.  0.  0.  0.  0.  0.  0.  0.]\n",
      " [ 0.  0.  0.  0.  0.  0.  0.  0.  0. 20.]\n",
      " [ 0.  0.  0.  0.  0.  0.  0.  0.  0.  0.]]\n"
     ]
    }
   ],
   "source": [
    "a = numpy.zeros([4,10])\n",
    "print(a)\n",
    "a[1,1] = 10\n",
    "print(a[1,1])\n",
    "print(a[1,0])\n",
    "a[2,9] = 20\n",
    "print(a)"
   ]
  },
  {
   "cell_type": "code",
   "execution_count": 150,
   "metadata": {
    "hidden": true
   },
   "outputs": [],
   "source": [
    "?numpy.zeros"
   ]
  },
  {
   "cell_type": "code",
   "execution_count": 151,
   "metadata": {
    "hidden": true
   },
   "outputs": [
    {
     "data": {
      "text/plain": [
       "<matplotlib.image.AxesImage at 0x7fb7440593d0>"
      ]
     },
     "execution_count": 151,
     "metadata": {},
     "output_type": "execute_result"
    },
    {
     "data": {
      "image/png": "[encoded data removed]",
      "text/plain": [
       "<Figure size 432x288 with 1 Axes>"
      ]
     },
     "metadata": {
      "needs_background": "light"
     },
     "output_type": "display_data"
    }
   ],
   "source": [
    "import matplotlib.pyplot\n",
    "\n",
    "matplotlib.pyplot.imshow(a)"
   ]
  },
  {
   "cell_type": "code",
   "execution_count": 152,
   "metadata": {
    "hidden": true
   },
   "outputs": [
    {
     "data": {
      "text/plain": [
       "<matplotlib.image.AxesImage at 0x7fb7440a0350>"
      ]
     },
     "execution_count": 152,
     "metadata": {},
     "output_type": "execute_result"
    },
    {
     "data": {
      "image/png": "[encoded data removed]",
      "text/plain": [
       "<Figure size 432x288 with 1 Axes>"
      ]
     },
     "metadata": {
      "needs_background": "light"
     },
     "output_type": "display_data"
    }
   ],
   "source": [
    "matplotlib.pyplot.imshow(a, interpolation=\"sinc\")"
   ]
  },
  {
   "cell_type": "code",
   "execution_count": 153,
   "metadata": {
    "hidden": true
   },
   "outputs": [
    {
     "name": "stdout",
     "output_type": "stream",
     "text": [
      "aDog ( 11.23 ) woof!\n"
     ]
    }
   ],
   "source": [
    "class Dog:\n",
    "    def __init__(self, name, temp):\n",
    "        self.name = name\n",
    "        self.temp = temp\n",
    "        \n",
    "    def status(self):\n",
    "        print(self.name, \"(\", self.temp, \")\", \"woof!\")\n",
    "        \n",
    "sizzles = Dog(\"aDog\", 11.23)\n",
    "sizzles.status()"
   ]
  },
  {
   "cell_type": "markdown",
   "metadata": {},
   "source": [
    "## 使用Python制作神经网络"
   ]
  },
  {
   "cell_type": "markdown",
   "metadata": {},
   "source": [
    "### 框架代码"
   ]
  },
  {
   "cell_type": "code",
   "execution_count": 1,
   "metadata": {
    "ExecuteTime": {
     "end_time": "2020-02-09T01:41:26.443367Z",
     "start_time": "2020-02-09T01:41:26.437240Z"
    },
    "code_folding": []
   },
   "outputs": [],
   "source": [
    "class NeuralNetwork:\n",
    "    \n",
    "    def __init__():\n",
    "        pass\n",
    "    \n",
    "    def train():\n",
    "        pass\n",
    "    \n",
    "    def query():\n",
    "        pass"
   ]
  },
  {
   "cell_type": "markdown",
   "metadata": {},
   "source": [
    "#### 初始化网络"
   ]
  },
  {
   "cell_type": "markdown",
   "metadata": {},
   "source": [
    "#### 神经网络的形状及尺寸：输入层结点、隐藏层结点、输出层节点的数量，学习率"
   ]
  },
  {
   "cell_type": "code",
   "execution_count": 1,
   "metadata": {
    "ExecuteTime": {
     "end_time": "2020-02-09T02:44:30.256468Z",
     "start_time": "2020-02-09T02:44:30.246171Z"
    }
   },
   "outputs": [],
   "source": [
    "class NeuralNetwork:\n",
    "    \n",
    "    def __init__(self, input_nodes, hidden_nodes, output_nodes, learning_rate):\n",
    "        self.input_nodes = input_nodes\n",
    "        self.hidden_nodes = hidden_nodes\n",
    "        self.output_nodes = output_nodes\n",
    "\n",
    "        self.learning_rate = learning_rate\n",
    "        pass\n",
    "    \n",
    "    def train():\n",
    "        pass\n",
    "    \n",
    "    def query():\n",
    "        pass\n",
    "    \n",
    "input_nodes = 3\n",
    "hidden_nodes = 3\n",
    "output_nodes = 3\n",
    "\n",
    "learning_rate = 0.5\n",
    "\n",
    "n = NeuralNetwork(input_nodes, hidden_nodes, output_nodes, learning_rate)"
   ]
  },
  {
   "cell_type": "markdown",
   "metadata": {},
   "source": [
    "#### 链接权重：计算前馈信号、反向传播误差，并且在试图改进网络时优化链接权重本身"
   ]
  },
  {
   "cell_type": "markdown",
   "metadata": {},
   "source": [
    "##### 使用 0~1 随机数"
   ]
  },
  {
   "cell_type": "code",
   "execution_count": 156,
   "metadata": {},
   "outputs": [
    {
     "name": "stdout",
     "output_type": "stream",
     "text": [
      "[[0.5767163  0.2442149  0.48943312 0.78091948 0.02481478]\n",
      " [0.42657479 0.85396517 0.19646206 0.90448021 0.36414881]\n",
      " [0.56995737 0.19211314 0.07171724 0.87596069 0.57964258]]\n",
      "[0, 1, 2, 3, 4, 5, 6, 7, 8, 9, 10, 11, 12, 13, 14]\n"
     ]
    },
    {
     "data": {
      "text/plain": [
       "<matplotlib.collections.PathCollection at 0x7fb73c7658d0>"
      ]
     },
     "execution_count": 156,
     "metadata": {},
     "output_type": "execute_result"
    },
    {
     "data": {
      "image/png": "[encoded data removed]",
      "text/plain": [
       "<Figure size 432x288 with 1 Axes>"
      ]
     },
     "metadata": {
      "needs_background": "light"
     },
     "output_type": "display_data"
    }
   ],
   "source": [
    "r = 3\n",
    "c = 5\n",
    "c0 = numpy.random.rand(r, c)\n",
    "r0 = list(range(r * c))\n",
    "print(c0)\n",
    "print(r0)\n",
    "matplotlib.pyplot.scatter(r0, c0)"
   ]
  },
  {
   "cell_type": "markdown",
   "metadata": {},
   "source": [
    "##### 权重可以为正数，也可以为负数"
   ]
  },
  {
   "cell_type": "code",
   "execution_count": 157,
   "metadata": {},
   "outputs": [
    {
     "name": "stdout",
     "output_type": "stream",
     "text": [
      "[[-0.13738376 -0.28056356  0.04477796 -0.00703536  0.35985705]\n",
      " [ 0.34322417  0.4877377  -0.47043542  0.26624268 -0.01641841]\n",
      " [ 0.39556633  0.34291956  0.13068227 -0.26473046  0.47833977]]\n",
      "[0, 1, 2, 3, 4, 5, 6, 7, 8, 9, 10, 11, 12, 13, 14]\n"
     ]
    },
    {
     "data": {
      "text/plain": [
       "<matplotlib.collections.PathCollection at 0x7fb73c737fd0>"
      ]
     },
     "execution_count": 157,
     "metadata": {},
     "output_type": "execute_result"
    },
    {
     "data": {
      "image/png": "[encoded data removed]",
      "text/plain": [
       "<Figure size 432x288 with 1 Axes>"
      ]
     },
     "metadata": {
      "needs_background": "light"
     },
     "output_type": "display_data"
    }
   ],
   "source": [
    "r = 3\n",
    "c = 5\n",
    "c1 = numpy.random.rand(r, c) - 0.5\n",
    "r1 = list(range(r * c))\n",
    "print(c1)\n",
    "print(r1)\n",
    "matplotlib.pyplot.scatter(r1, c1)"
   ]
  },
  {
   "cell_type": "code",
   "execution_count": 158,
   "metadata": {},
   "outputs": [],
   "source": [
    "class NeuralNetwork:\n",
    "    \n",
    "    def __init__(self, input_nodes, hidden_nodes, output_nodes, learning_rate):\n",
    "        self.input_nodes = input_nodes\n",
    "        self.hidden_nodes = hidden_nodes\n",
    "        self.output_nodes = output_nodes\n",
    "\n",
    "        self.learning_rate = learning_rate\n",
    "        \n",
    "        self.weight_input_hidden = numpy.random.rand(self.hidden_nodes, self.input_nodes) - 0.5\n",
    "        self.weight_hidden_output = numpy.random.rand(self.output_nodes, self.hidden_nodes) - 0.5\n",
    "        pass\n",
    "    \n",
    "    def train():\n",
    "        pass\n",
    "    \n",
    "    def query():\n",
    "        pass\n",
    "    \n",
    "input_nodes = 3\n",
    "hidden_nodes = 3\n",
    "output_nodes = 3\n",
    "\n",
    "learning_rate = 0.5\n",
    "\n",
    "n = NeuralNetwork(input_nodes, hidden_nodes, output_nodes, learning_rate)"
   ]
  },
  {
   "cell_type": "markdown",
   "metadata": {},
   "source": [
    "##### 使用正态分布的随机数"
   ]
  },
  {
   "cell_type": "code",
   "execution_count": 159,
   "metadata": {},
   "outputs": [
    {
     "name": "stdout",
     "output_type": "stream",
     "text": [
      "[[-1.41220679 -1.24592632 -0.82008864 -0.45224755 -0.42579054 -0.38600991\n",
      "  -0.27409799 -0.21446152  0.03450844  0.20825385  0.28577855  0.91297457\n",
      "   0.98074786  1.2257282   2.36041152]]\n",
      "[0, 1, 2, 3, 4, 5, 6, 7, 8, 9, 10, 11, 12, 13, 14]\n"
     ]
    },
    {
     "data": {
      "text/plain": [
       "<matplotlib.collections.PathCollection at 0x7fb73c56a4d0>"
      ]
     },
     "execution_count": 159,
     "metadata": {},
     "output_type": "execute_result"
    },
    {
     "data": {
      "image/png": "[encoded data removed]",
      "text/plain": [
       "<Figure size 432x288 with 1 Axes>"
      ]
     },
     "metadata": {
      "needs_background": "light"
     },
     "output_type": "display_data"
    }
   ],
   "source": [
    "r = 3\n",
    "c = 5\n",
    "c2 = numpy.sort(numpy.random.normal(0, 1, (1, r * c)))\n",
    "r2 = list(range(r * c))\n",
    "print(c2)\n",
    "print(r2)\n",
    "matplotlib.pyplot.scatter(r2, c2)"
   ]
  },
  {
   "cell_type": "markdown",
   "metadata": {},
   "source": [
    "##### 查询网络"
   ]
  },
  {
   "cell_type": "code",
   "execution_count": 160,
   "metadata": {},
   "outputs": [],
   "source": [
    "import scipy.special"
   ]
  },
  {
   "cell_type": "code",
   "execution_count": 161,
   "metadata": {},
   "outputs": [
    {
     "name": "stdout",
     "output_type": "stream",
     "text": [
      "================dump=====================\n",
      "        input_nodes  =  3\n",
      "        hidden_nodes =  2\n",
      "        output_nodes =  3\n",
      " weight_input_hidden =  (2, 3) \n",
      " [[ 0.22639304 -0.06843371  0.35197227]\n",
      " [-0.43633704  0.23206887  0.2181467 ]]\n",
      "weight_hidden_output =  (3, 2) \n",
      " [[-0.43971964 -0.37067502]\n",
      " [ 0.04061411 -0.0754237 ]\n",
      " [-0.39864535 -0.14880659]]\n",
      "=================end=====================\n",
      "[[0.42295977]\n",
      " [0.49775444]\n",
      " [0.44588991]]\n",
      "================dump=====================\n",
      "        input_nodes  =  3\n",
      "        hidden_nodes =  2\n",
      "        output_nodes =  3\n",
      " weight_input_hidden =  (2, 3) \n",
      " [[ 0.22639304 -0.06843371  0.35197227]\n",
      " [-0.43633704  0.23206887  0.2181467 ]]\n",
      "weight_hidden_output =  (3, 2) \n",
      " [[-0.43971964 -0.37067502]\n",
      " [ 0.04061411 -0.0754237 ]\n",
      " [-0.39864535 -0.14880659]]\n",
      "=================end=====================\n"
     ]
    }
   ],
   "source": [
    "class NeuralNetwork:\n",
    "    \n",
    "    def __init__(self, input_nodes, hidden_nodes, output_nodes, learning_rate):\n",
    "        self.input_nodes = input_nodes\n",
    "        self.hidden_nodes = hidden_nodes\n",
    "        self.output_nodes = output_nodes\n",
    "\n",
    "        self.learning_rate = learning_rate\n",
    "        \n",
    "        self.weight_input_hidden = numpy.random.rand(self.hidden_nodes, self.input_nodes) - 0.5\n",
    "        self.weight_hidden_output = numpy.random.rand(self.output_nodes, self.hidden_nodes) - 0.5\n",
    "        \n",
    "        self.activation_function = lambda x: scipy.special.expit(x)\n",
    "        pass\n",
    "    \n",
    "    def train():\n",
    "        pass\n",
    "    \n",
    "    def query(self, inputs_list):\n",
    "        inputs = numpy.array(inputs_list, ndmin=2).T\n",
    "        \n",
    "        hidden_inputs = numpy.dot(self.weight_input_hidden, inputs)\n",
    "        hidden_outputs = self.activation_function(hidden_inputs)\n",
    "        \n",
    "        final_inputs = numpy.dot(self.weight_hidden_output, hidden_outputs)\n",
    "        final_outputs = self.activation_function(final_inputs)\n",
    "        \n",
    "        return final_outputs\n",
    "    \n",
    "    def dump(self):\n",
    "        print(\"================dump=====================\")\n",
    "        print(\"        input_nodes  = \", self.input_nodes)\n",
    "        print(\"        hidden_nodes = \", self.hidden_nodes)\n",
    "        print(\"        output_nodes = \", self.output_nodes)\n",
    "        print(\" weight_input_hidden = \", self.weight_input_hidden.shape, \"\\n\", self.weight_input_hidden)\n",
    "        print(\"weight_hidden_output = \", self.weight_hidden_output.shape, \"\\n\", self.weight_hidden_output)\n",
    "        print(\"=================end=====================\")\n",
    "        pass\n",
    "    \n",
    "input_nodes = 3\n",
    "hidden_nodes = 2\n",
    "output_nodes = 3\n",
    "\n",
    "learning_rate = 0.5\n",
    "\n",
    "n = NeuralNetwork(input_nodes, hidden_nodes, output_nodes, learning_rate)\n",
    "n.dump()\n",
    "\n",
    "input_list = [1.0, 0.5, -1.5]\n",
    "r = n.query(input_list)\n",
    "print(r)\n",
    "\n",
    "n.dump()"
   ]
  },
  {
   "cell_type": "code",
   "execution_count": 162,
   "metadata": {},
   "outputs": [
    {
     "name": "stdout",
     "output_type": "stream",
     "text": [
      "input_list = \n",
      " [1.0, 0.5, -1.5]\n",
      "inputs = \n",
      " (3, 1)\n",
      "inputs = \n",
      " [[ 1. ]\n",
      " [ 0.5]\n",
      " [-1.5]]\n",
      "inputs = \n",
      " [ 1.   0.5 -1.5]\n",
      "inputs = \n",
      " (3,)\n",
      "inputs.T = \n",
      " [ 1.   0.5 -1.5]\n",
      "inputs = \n",
      " [[[ 1.   0.5 -1.5]]]\n",
      "inputs = \n",
      " (1, 1, 3)\n",
      "inputs.T = \n",
      " [[[ 1. ]]\n",
      "\n",
      " [[ 0.5]]\n",
      "\n",
      " [[-1.5]]]\n"
     ]
    }
   ],
   "source": [
    "inputs_list = [1.0, 0.5, -1.5]\n",
    "inputs = numpy.array(input_list, ndmin=2).T\n",
    "print(\"input_list = \\n\", inputs_list)\n",
    "print(\"inputs = \\n\", inputs.shape)\n",
    "print(\"inputs = \\n\", inputs)\n",
    "\n",
    "inputs = numpy.array(input_list, ndmin=1)\n",
    "print(\"inputs = \\n\", inputs)\n",
    "print(\"inputs = \\n\", inputs.shape)\n",
    "print(\"inputs.T = \\n\", inputs.T)\n",
    "\n",
    "inputs = numpy.array(input_list, ndmin=3)\n",
    "print(\"inputs = \\n\", inputs)\n",
    "print(\"inputs = \\n\", inputs.shape)\n",
    "print(\"inputs.T = \\n\", inputs.T)"
   ]
  },
  {
   "cell_type": "markdown",
   "metadata": {},
   "source": [
    "##### 训练网络"
   ]
  },
  {
   "cell_type": "code",
   "execution_count": 163,
   "metadata": {},
   "outputs": [
    {
     "name": "stdout",
     "output_type": "stream",
     "text": [
      "================dump=====================\n",
      "        input_nodes  =  3\n",
      "        hidden_nodes =  2\n",
      "        output_nodes =  3\n",
      " weight_input_hidden =  (2, 3) \n",
      " [[-0.12025367  0.30594948  0.12999306]\n",
      " [-0.10963994  0.19231443 -0.23264409]]\n",
      "weight_hidden_output =  (3, 2) \n",
      " [[ 0.41008533  0.29575603]\n",
      " [ 0.09983689  0.31226628]\n",
      " [-0.18101792 -0.1849915 ]]\n",
      "=================end=====================\n",
      "[[0.55872444]\n",
      " [0.53605624]\n",
      " [0.46855673]]\n",
      "[[0.55872444 0.53605624 0.46855673]]\n",
      "[[0.55872444 0.53605624 0.46855673]]\n",
      "================dump=====================\n",
      "        input_nodes  =  3\n",
      "        hidden_nodes =  2\n",
      "        output_nodes =  3\n",
      " weight_input_hidden =  (2, 3) \n",
      " [[-0.08172001  0.30787617  0.12421301]\n",
      " [-0.09585238  0.19300381 -0.23471222]]\n",
      "weight_hidden_output =  (3, 2) \n",
      " [[ 0.41258846  0.29959169]\n",
      " [ 0.09687376  0.30772573]\n",
      " [-0.18366071 -0.18904118]]\n",
      "=================end=====================\n"
     ]
    }
   ],
   "source": [
    "class NeuralNetwork:\n",
    "    \n",
    "    def __init__(self, input_nodes, hidden_nodes, output_nodes, learning_rate):\n",
    "        self.input_nodes = input_nodes\n",
    "        self.hidden_nodes = hidden_nodes\n",
    "        self.output_nodes = output_nodes\n",
    "\n",
    "        self.learning_rate = learning_rate\n",
    "        \n",
    "        self.weight_input_hidden = numpy.random.rand(self.hidden_nodes, self.input_nodes) - 0.5\n",
    "        self.weight_hidden_output = numpy.random.rand(self.output_nodes, self.hidden_nodes) - 0.5\n",
    "        \n",
    "        self.activation_function = lambda x: scipy.special.expit(x)\n",
    "        pass\n",
    "    \n",
    "    def train(self, inputs_list, targets_list):\n",
    "        ### 以下与 query() 相同\n",
    "        inputs = numpy.array(inputs_list, ndmin=2).T\n",
    "        \n",
    "        hidden_inputs = numpy.dot(self.weight_input_hidden, inputs)\n",
    "        hidden_outputs = self.activation_function(hidden_inputs)\n",
    "        \n",
    "        final_inputs = numpy.dot(self.weight_hidden_output, hidden_outputs)\n",
    "        final_outputs = self.activation_function(final_inputs)\n",
    "        \n",
    "        targets = numpy.array(targets_list, ndmin=2).T\n",
    "        ### 计算误差\n",
    "        output_errors = targets - final_outputs\n",
    "        ### 使用 output_errors 优化 hidden 层与 output 层之间的权重\n",
    "        self.weight_hidden_output += self.learning_rate * \\\n",
    "                numpy.dot(output_errors * final_outputs * (1 - final_outputs), numpy.transpose(hidden_outputs))\n",
    "\n",
    "        ### 计算 hidden 节点反向传播的误差\n",
    "        hidden_errors = numpy.dot(self.weight_hidden_output.T, output_errors)\n",
    "        ### 使用 hidden_errors 优化  input 层与 hidden 层之间的权重\n",
    "        self.weight_input_hidden += self.learning_rate * \\\n",
    "                numpy.dot(hidden_errors * hidden_outputs * (1 - hidden_outputs), numpy.transpose(inputs))\n",
    "\n",
    "        pass\n",
    "    \n",
    "    def query(self, inputs_list):\n",
    "        inputs = numpy.array(inputs_list, ndmin=2).T\n",
    "        \n",
    "        hidden_inputs = numpy.dot(self.weight_input_hidden, inputs)\n",
    "        hidden_outputs = self.activation_function(hidden_inputs)\n",
    "        \n",
    "        final_inputs = numpy.dot(self.weight_hidden_output, hidden_outputs)\n",
    "        final_outputs = self.activation_function(final_inputs)\n",
    "        \n",
    "        return final_outputs\n",
    "    \n",
    "    def dump(self):\n",
    "        print(\"================dump=====================\")\n",
    "        print(\"        input_nodes  = \", self.input_nodes)\n",
    "        print(\"        hidden_nodes = \", self.hidden_nodes)\n",
    "        print(\"        output_nodes = \", self.output_nodes)\n",
    "        print(\" weight_input_hidden = \", self.weight_input_hidden.shape, \"\\n\", self.weight_input_hidden)\n",
    "        print(\"weight_hidden_output = \", self.weight_hidden_output.shape, \"\\n\", self.weight_hidden_output)\n",
    "        print(\"=================end=====================\")\n",
    "        pass\n",
    "    \n",
    "input_nodes = 3\n",
    "hidden_nodes = 2\n",
    "output_nodes = 3\n",
    "\n",
    "learning_rate = 0.1\n",
    "\n",
    "n = NeuralNetwork(input_nodes, hidden_nodes, output_nodes, learning_rate)\n",
    "n.dump()\n",
    "\n",
    "inputs_list = [10.0, 0.5, -1.5]\n",
    "targets_list = [1.0, 0.0001, 0.0001]\n",
    "n.train(inputs_list, targets_list)\n",
    "\n",
    "r = n.query(inputs_list)\n",
    "print(r)\n",
    "print(r.T)\n",
    "print(numpy.transpose(r))\n",
    "\n",
    "n.dump()"
   ]
  },
  {
   "cell_type": "markdown",
   "metadata": {},
   "source": [
    "## 手写数字的数据集MNIST\n",
    "\n",
    "- 神经网络专家 Yann LeCun 提供了手写数字的 MNIST 数据库：http://yann.lecun.com/exdb/mnist/\n",
    "- 基于MNIST创建相当简单的数据文件格式：http://pjreddie.com/projects/mnist-in-csv/\n",
    "- 6w+ 个标记样本集，1w 测试集\n",
    "- 分开训练和测试数据集是为了确保可以使用神经网络之前没有见过的数据进行两次测试"
   ]
  },
  {
   "cell_type": "code",
   "execution_count": 164,
   "metadata": {},
   "outputs": [],
   "source": [
    "import numpy\n",
    "import matplotlib.pyplot\n",
    "import scipy.special"
   ]
  },
  {
   "cell_type": "markdown",
   "metadata": {},
   "source": [
    "### 读数据集"
   ]
  },
  {
   "cell_type": "code",
   "execution_count": 165,
   "metadata": {},
   "outputs": [],
   "source": [
    "data_file = open(\"mnist_dataset/mnist_train_100.csv\", 'r')\n",
    "data_list = data_file.readlines()\n",
    "data_file.close()"
   ]
  },
  {
   "cell_type": "markdown",
   "metadata": {},
   "source": [
    "### 查看数据集内容"
   ]
  },
  {
   "cell_type": "code",
   "execution_count": null,
   "metadata": {
    "ExecuteTime": {
     "start_time": "2020-02-09T01:55:26.442Z"
    }
   },
   "outputs": [],
   "source": [
    "def display_line(data_line):\n",
    "    data_values = data_line.split(\",\")\n",
    "    print(\"数字为\", data_values[0])\n",
    "    image_array = numpy.asfarray(data_values[1:]).reshape((28,28))\n",
    "    matplotlib.pyplot.imshow(image_array, cmap=\"Greys\")\n",
    "    # imshow(a) will plot the values of the array a as pixel values, \n",
    "    # but it won't display the plot. To view the image after each iteration\n",
    "    # of the for loop, you need to add show().\n",
    "    matplotlib.pyplot.show()\n",
    "    pass\n",
    "\n",
    "for i in range(5):\n",
    "    display_line(data_list[i])"
   ]
  },
  {
   "cell_type": "markdown",
   "metadata": {},
   "source": [
    "### 把颜色值从0-255缩放到0.01-1.0\n",
    "选 0.01 为避免使用 0 值会人为地造成权重更新失败"
   ]
  },
  {
   "cell_type": "code",
   "execution_count": 167,
   "metadata": {},
   "outputs": [
    {
     "name": "stdout",
     "output_type": "stream",
     "text": [
      "5,0,0,0,0,0,0,0,0,0,0,0,0,0,0,0,0,0,0,0,0,0,0,0,0,0,0,0,0,0,0,0,0,0,0,0,0,0,0,0,0,0,0,0,0,0,0,0,0,0,0,0,0,0,0,0,0,0,0,0,0,0,0,0,0,0,0,0,0,0,0,0,0,0,0,0,0,0,0,0,0,0,0,0,0,0,0,0,0,0,0,0,0,0,0,0,0,0,0,0,0,0,0,0,0,0,0,0,0,0,0,0,0,0,0,0,0,0,0,0,0,0,0,0,0,0,0,0,0,0,0,0,0,0,0,0,0,0,0,0,0,0,0,0,0,0,0,0,0,0,0,0,0,3,18,18,18,126,136,175,26,166,255,247,127,0,0,0,0,0,0,0,0,0,0,0,0,30,36,94,154,170,253,253,253,253,253,225,172,253,242,195,64,0,0,0,0,0,0,0,0,0,0,0,49,238,253,253,253,253,253,253,253,253,251,93,82,82,56,39,0,0,0,0,0,0,0,0,0,0,0,0,18,219,253,253,253,253,253,198,182,247,241,0,0,0,0,0,0,0,0,0,0,0,0,0,0,0,0,0,0,80,156,107,253,253,205,11,0,43,154,0,0,0,0,0,0,0,0,0,0,0,0,0,0,0,0,0,0,0,14,1,154,253,90,0,0,0,0,0,0,0,0,0,0,0,0,0,0,0,0,0,0,0,0,0,0,0,0,0,139,253,190,2,0,0,0,0,0,0,0,0,0,0,0,0,0,0,0,0,0,0,0,0,0,0,0,0,11,190,253,70,0,0,0,0,0,0,0,0,0,0,0,0,0,0,0,0,0,0,0,0,0,0,0,0,0,35,241,225,160,108,1,0,0,0,0,0,0,0,0,0,0,0,0,0,0,0,0,0,0,0,0,0,0,0,81,240,253,253,119,25,0,0,0,0,0,0,0,0,0,0,0,0,0,0,0,0,0,0,0,0,0,0,0,45,186,253,253,150,27,0,0,0,0,0,0,0,0,0,0,0,0,0,0,0,0,0,0,0,0,0,0,0,16,93,252,253,187,0,0,0,0,0,0,0,0,0,0,0,0,0,0,0,0,0,0,0,0,0,0,0,0,0,249,253,249,64,0,0,0,0,0,0,0,0,0,0,0,0,0,0,0,0,0,0,0,0,0,46,130,183,253,253,207,2,0,0,0,0,0,0,0,0,0,0,0,0,0,0,0,0,0,0,0,39,148,229,253,253,253,250,182,0,0,0,0,0,0,0,0,0,0,0,0,0,0,0,0,0,0,24,114,221,253,253,253,253,201,78,0,0,0,0,0,0,0,0,0,0,0,0,0,0,0,0,0,23,66,213,253,253,253,253,198,81,2,0,0,0,0,0,0,0,0,0,0,0,0,0,0,0,0,18,171,219,253,253,253,253,195,80,9,0,0,0,0,0,0,0,0,0,0,0,0,0,0,0,0,55,172,226,253,253,253,253,244,133,11,0,0,0,0,0,0,0,0,0,0,0,0,0,0,0,0,0,0,136,253,253,253,212,135,132,16,0,0,0,0,0,0,0,0,0,0,0,0,0,0,0,0,0,0,0,0,0,0,0,0,0,0,0,0,0,0,0,0,0,0,0,0,0,0,0,0,0,0,0,0,0,0,0,0,0,0,0,0,0,0,0,0,0,0,0,0,0,0,0,0,0,0,0,0,0,0,0,0,0,0,0,0,0,0,0,0,0,0,0,0,0,0,0,0,0,0,0,0,0,0,0,0,0,0,0,0\n",
      "\n",
      "[0.01       0.01       0.01       0.01       0.01       0.01\n",
      " 0.01       0.01       0.01       0.01       0.01       0.01\n",
      " 0.01       0.01       0.01       0.01       0.01       0.01\n",
      " 0.01       0.01       0.01       0.01       0.01       0.01\n",
      " 0.01       0.01       0.01       0.01       0.01       0.01\n",
      " 0.01       0.01       0.01       0.01       0.01       0.01\n",
      " 0.01       0.01       0.01       0.01       0.01       0.01\n",
      " 0.01       0.01       0.01       0.01       0.01       0.01\n",
      " 0.01       0.01       0.01       0.01       0.01       0.01\n",
      " 0.01       0.01       0.01       0.01       0.01       0.01\n",
      " 0.01       0.01       0.01       0.01       0.01       0.01\n",
      " 0.01       0.01       0.01       0.01       0.01       0.01\n",
      " 0.01       0.01       0.01       0.01       0.01       0.01\n",
      " 0.01       0.01       0.01       0.01       0.01       0.01\n",
      " 0.01       0.01       0.01       0.01       0.01       0.01\n",
      " 0.01       0.01       0.01       0.01       0.01       0.01\n",
      " 0.01       0.01       0.01       0.01       0.01       0.01\n",
      " 0.01       0.01       0.01       0.01       0.01       0.01\n",
      " 0.01       0.01       0.01       0.01       0.01       0.01\n",
      " 0.01       0.01       0.01       0.01       0.01       0.01\n",
      " 0.01       0.01       0.01       0.01       0.01       0.01\n",
      " 0.01       0.01       0.01       0.01       0.01       0.01\n",
      " 0.01       0.01       0.01       0.01       0.01       0.01\n",
      " 0.01       0.01       0.01       0.01       0.01       0.01\n",
      " 0.01       0.01       0.01       0.01       0.01       0.01\n",
      " 0.01       0.01       0.02164706 0.07988235 0.07988235 0.07988235\n",
      " 0.49917647 0.538      0.68941176 0.11094118 0.65447059 1.\n",
      " 0.96894118 0.50305882 0.01       0.01       0.01       0.01\n",
      " 0.01       0.01       0.01       0.01       0.01       0.01\n",
      " 0.01       0.01       0.12647059 0.14976471 0.37494118 0.60788235\n",
      " 0.67       0.99223529 0.99223529 0.99223529 0.99223529 0.99223529\n",
      " 0.88352941 0.67776471 0.99223529 0.94952941 0.76705882 0.25847059\n",
      " 0.01       0.01       0.01       0.01       0.01       0.01\n",
      " 0.01       0.01       0.01       0.01       0.01       0.20023529\n",
      " 0.934      0.99223529 0.99223529 0.99223529 0.99223529 0.99223529\n",
      " 0.99223529 0.99223529 0.99223529 0.98447059 0.37105882 0.32835294\n",
      " 0.32835294 0.22741176 0.16141176 0.01       0.01       0.01\n",
      " 0.01       0.01       0.01       0.01       0.01       0.01\n",
      " 0.01       0.01       0.01       0.07988235 0.86023529 0.99223529\n",
      " 0.99223529 0.99223529 0.99223529 0.99223529 0.77870588 0.71658824\n",
      " 0.96894118 0.94564706 0.01       0.01       0.01       0.01\n",
      " 0.01       0.01       0.01       0.01       0.01       0.01\n",
      " 0.01       0.01       0.01       0.01       0.01       0.01\n",
      " 0.01       0.01       0.32058824 0.61564706 0.42541176 0.99223529\n",
      " 0.99223529 0.80588235 0.05270588 0.01       0.17694118 0.60788235\n",
      " 0.01       0.01       0.01       0.01       0.01       0.01\n",
      " 0.01       0.01       0.01       0.01       0.01       0.01\n",
      " 0.01       0.01       0.01       0.01       0.01       0.01\n",
      " 0.01       0.06435294 0.01388235 0.60788235 0.99223529 0.35941176\n",
      " 0.01       0.01       0.01       0.01       0.01       0.01\n",
      " 0.01       0.01       0.01       0.01       0.01       0.01\n",
      " 0.01       0.01       0.01       0.01       0.01       0.01\n",
      " 0.01       0.01       0.01       0.01       0.01       0.01\n",
      " 0.01       0.54964706 0.99223529 0.74764706 0.01776471 0.01\n",
      " 0.01       0.01       0.01       0.01       0.01       0.01\n",
      " 0.01       0.01       0.01       0.01       0.01       0.01\n",
      " 0.01       0.01       0.01       0.01       0.01       0.01\n",
      " 0.01       0.01       0.01       0.01       0.01       0.05270588\n",
      " 0.74764706 0.99223529 0.28176471 0.01       0.01       0.01\n",
      " 0.01       0.01       0.01       0.01       0.01       0.01\n",
      " 0.01       0.01       0.01       0.01       0.01       0.01\n",
      " 0.01       0.01       0.01       0.01       0.01       0.01\n",
      " 0.01       0.01       0.01       0.01       0.14588235 0.94564706\n",
      " 0.88352941 0.63117647 0.42929412 0.01388235 0.01       0.01\n",
      " 0.01       0.01       0.01       0.01       0.01       0.01\n",
      " 0.01       0.01       0.01       0.01       0.01       0.01\n",
      " 0.01       0.01       0.01       0.01       0.01       0.01\n",
      " 0.01       0.01       0.01       0.32447059 0.94176471 0.99223529\n",
      " 0.99223529 0.472      0.10705882 0.01       0.01       0.01\n",
      " 0.01       0.01       0.01       0.01       0.01       0.01\n",
      " 0.01       0.01       0.01       0.01       0.01       0.01\n",
      " 0.01       0.01       0.01       0.01       0.01       0.01\n",
      " 0.01       0.01       0.18470588 0.73211765 0.99223529 0.99223529\n",
      " 0.59235294 0.11482353 0.01       0.01       0.01       0.01\n",
      " 0.01       0.01       0.01       0.01       0.01       0.01\n",
      " 0.01       0.01       0.01       0.01       0.01       0.01\n",
      " 0.01       0.01       0.01       0.01       0.01       0.01\n",
      " 0.01       0.07211765 0.37105882 0.98835294 0.99223529 0.736\n",
      " 0.01       0.01       0.01       0.01       0.01       0.01\n",
      " 0.01       0.01       0.01       0.01       0.01       0.01\n",
      " 0.01       0.01       0.01       0.01       0.01       0.01\n",
      " 0.01       0.01       0.01       0.01       0.01       0.01\n",
      " 0.01       0.97670588 0.99223529 0.97670588 0.25847059 0.01\n",
      " 0.01       0.01       0.01       0.01       0.01       0.01\n",
      " 0.01       0.01       0.01       0.01       0.01       0.01\n",
      " 0.01       0.01       0.01       0.01       0.01       0.01\n",
      " 0.01       0.01       0.18858824 0.51470588 0.72047059 0.99223529\n",
      " 0.99223529 0.81364706 0.01776471 0.01       0.01       0.01\n",
      " 0.01       0.01       0.01       0.01       0.01       0.01\n",
      " 0.01       0.01       0.01       0.01       0.01       0.01\n",
      " 0.01       0.01       0.01       0.01       0.16141176 0.58458824\n",
      " 0.89905882 0.99223529 0.99223529 0.99223529 0.98058824 0.71658824\n",
      " 0.01       0.01       0.01       0.01       0.01       0.01\n",
      " 0.01       0.01       0.01       0.01       0.01       0.01\n",
      " 0.01       0.01       0.01       0.01       0.01       0.01\n",
      " 0.10317647 0.45258824 0.868      0.99223529 0.99223529 0.99223529\n",
      " 0.99223529 0.79035294 0.31282353 0.01       0.01       0.01\n",
      " 0.01       0.01       0.01       0.01       0.01       0.01\n",
      " 0.01       0.01       0.01       0.01       0.01       0.01\n",
      " 0.01       0.01       0.09929412 0.26623529 0.83694118 0.99223529\n",
      " 0.99223529 0.99223529 0.99223529 0.77870588 0.32447059 0.01776471\n",
      " 0.01       0.01       0.01       0.01       0.01       0.01\n",
      " 0.01       0.01       0.01       0.01       0.01       0.01\n",
      " 0.01       0.01       0.01       0.01       0.07988235 0.67388235\n",
      " 0.86023529 0.99223529 0.99223529 0.99223529 0.99223529 0.76705882\n",
      " 0.32058824 0.04494118 0.01       0.01       0.01       0.01\n",
      " 0.01       0.01       0.01       0.01       0.01       0.01\n",
      " 0.01       0.01       0.01       0.01       0.01       0.01\n",
      " 0.22352941 0.67776471 0.88741176 0.99223529 0.99223529 0.99223529\n",
      " 0.99223529 0.95729412 0.52635294 0.05270588 0.01       0.01\n",
      " 0.01       0.01       0.01       0.01       0.01       0.01\n",
      " 0.01       0.01       0.01       0.01       0.01       0.01\n",
      " 0.01       0.01       0.01       0.01       0.538      0.99223529\n",
      " 0.99223529 0.99223529 0.83305882 0.53411765 0.52247059 0.07211765\n",
      " 0.01       0.01       0.01       0.01       0.01       0.01\n",
      " 0.01       0.01       0.01       0.01       0.01       0.01\n",
      " 0.01       0.01       0.01       0.01       0.01       0.01\n",
      " 0.01       0.01       0.01       0.01       0.01       0.01\n",
      " 0.01       0.01       0.01       0.01       0.01       0.01\n",
      " 0.01       0.01       0.01       0.01       0.01       0.01\n",
      " 0.01       0.01       0.01       0.01       0.01       0.01\n",
      " 0.01       0.01       0.01       0.01       0.01       0.01\n",
      " 0.01       0.01       0.01       0.01       0.01       0.01\n",
      " 0.01       0.01       0.01       0.01       0.01       0.01\n",
      " 0.01       0.01       0.01       0.01       0.01       0.01\n",
      " 0.01       0.01       0.01       0.01       0.01       0.01\n",
      " 0.01       0.01       0.01       0.01       0.01       0.01\n",
      " 0.01       0.01       0.01       0.01       0.01       0.01\n",
      " 0.01       0.01       0.01       0.01       0.01       0.01\n",
      " 0.01       0.01       0.01       0.01       0.01       0.01\n",
      " 0.01       0.01       0.01       0.01      ]\n"
     ]
    }
   ],
   "source": [
    "data_line = data_list[0]\n",
    "print(data_line)\n",
    "\n",
    "data_values = data_line.split(\",\")\n",
    "data_scaled = numpy.asfarray(data_values[1:]) / 255.0 * 0.99 + 0.01\n",
    "print(data_scaled)"
   ]
  },
  {
   "cell_type": "markdown",
   "metadata": {},
   "source": [
    "### 目标数组\n",
    "如标签为 5，则需要创建输出节点的目标数组，其中对应标签 5 的节点，其它节点的值应都很小，形如: `[0, 0, 0, 0, 0, 1, 0, 0, 0, 0]"
   ]
  },
  {
   "cell_type": "code",
   "execution_count": 168,
   "metadata": {},
   "outputs": [
    {
     "name": "stdout",
     "output_type": "stream",
     "text": [
      "[0.01 0.01 0.01 0.01 0.01 0.01 0.01 0.01 0.01 0.01]\n",
      "5\n",
      "[0.01 0.01 0.01 0.01 0.01 0.99 0.01 0.01 0.01 0.01]\n"
     ]
    }
   ],
   "source": [
    "output_nodes = 10\n",
    "targets_list = numpy.zeros(output_nodes) + 0.01\n",
    "print(targets_list)\n",
    "\n",
    "print(int(data_values[0]))\n",
    "targets_list[int(data_values[0])] = 0.99\n",
    "print(targets_list)\n"
   ]
  },
  {
   "cell_type": "code",
   "execution_count": 169,
   "metadata": {},
   "outputs": [
    {
     "name": "stdout",
     "output_type": "stream",
     "text": [
      "performance =  0.9518\n"
     ]
    }
   ],
   "source": [
    "import numpy\n",
    "import matplotlib.pyplot\n",
    "import scipy.special\n",
    "\n",
    "class NeuralNetwork:\n",
    "    \n",
    "    def __init__(self, input_nodes, hidden_nodes, output_nodes, learning_rate):\n",
    "        self.input_nodes = input_nodes\n",
    "        self.hidden_nodes = hidden_nodes\n",
    "        self.output_nodes = output_nodes\n",
    "\n",
    "        self.learning_rate = learning_rate\n",
    "        \n",
    "        self.weight_input_hidden = numpy.random.rand(self.hidden_nodes, self.input_nodes) - 0.5\n",
    "        self.weight_hidden_output = numpy.random.rand(self.output_nodes, self.hidden_nodes) - 0.5\n",
    "        \n",
    "        self.activation_function = lambda x: scipy.special.expit(x)\n",
    "        pass\n",
    "    \n",
    "    def train(self, inputs_list, targets_list):\n",
    "        ### 以下与 query() 相同\n",
    "        inputs = numpy.array(inputs_list, ndmin=2).T\n",
    "        \n",
    "        hidden_inputs = numpy.dot(self.weight_input_hidden, inputs)\n",
    "        hidden_outputs = self.activation_function(hidden_inputs)\n",
    "        \n",
    "        final_inputs = numpy.dot(self.weight_hidden_output, hidden_outputs)\n",
    "        final_outputs = self.activation_function(final_inputs)\n",
    "        \n",
    "        targets = numpy.array(targets_list, ndmin=2).T\n",
    "        ### 计算误差\n",
    "        output_errors = targets - final_outputs\n",
    "        ### 使用 output_errors 优化 hidden 层与 output 层之间的权重\n",
    "        self.weight_hidden_output += self.learning_rate * \\\n",
    "                numpy.dot(output_errors * final_outputs * (1 - final_outputs), numpy.transpose(hidden_outputs))\n",
    "\n",
    "        ### 计算 hidden 节点反向传播的误差\n",
    "        hidden_errors = numpy.dot(self.weight_hidden_output.T, output_errors)\n",
    "        ### 使用 hidden_errors 优化  input 层与 hidden 层之间的权重\n",
    "        self.weight_input_hidden += self.learning_rate * \\\n",
    "                numpy.dot(hidden_errors * hidden_outputs * (1 - hidden_outputs), numpy.transpose(inputs))\n",
    "\n",
    "        pass\n",
    "    \n",
    "    def query(self, inputs_list):\n",
    "        inputs = numpy.array(inputs_list, ndmin=2).T\n",
    "        \n",
    "        hidden_inputs = numpy.dot(self.weight_input_hidden, inputs)\n",
    "        hidden_outputs = self.activation_function(hidden_inputs)\n",
    "        \n",
    "        final_inputs = numpy.dot(self.weight_hidden_output, hidden_outputs)\n",
    "        final_outputs = self.activation_function(final_inputs)\n",
    "        \n",
    "        return final_outputs\n",
    "    \n",
    "    def dump(self):\n",
    "        print(\"================dump=====================\")\n",
    "        print(\"        input_nodes  = \", self.input_nodes)\n",
    "        print(\"        hidden_nodes = \", self.hidden_nodes)\n",
    "        print(\"        output_nodes = \", self.output_nodes)\n",
    "        print(\" weight_input_hidden = \", self.weight_input_hidden.shape, \"\\n\", self.weight_input_hidden)\n",
    "        print(\"weight_hidden_output = \", self.weight_hidden_output.shape, \"\\n\", self.weight_hidden_output)\n",
    "        print(\"=================end=====================\")\n",
    "        pass\n",
    "    \n",
    "input_nodes = 784 # 28 * 28\n",
    "hidden_nodes = 200\n",
    "output_nodes = 10\n",
    "\n",
    "learning_rate = 0.1\n",
    "\n",
    "n = NeuralNetwork(input_nodes, hidden_nodes, output_nodes, learning_rate)\n",
    "# n.dump()\n",
    "\n",
    "train_file = \"mnist_dataset/mnist_train_100.csv\"\n",
    "test_file = \"mnist_dataset/mnist_test_10.csv\"\n",
    "train_file = \"mnist_dataset/mnist_train.csv\"\n",
    "test_file = \"mnist_dataset/mnist_test.csv\"\n",
    "\n",
    "# MNIST\n",
    "data_file = open(train_file, 'r')\n",
    "data_list = data_file.readlines()\n",
    "data_file.close()\n",
    "\n",
    "# train\n",
    "for line in data_list:\n",
    "    data_values = line.split(',')\n",
    "    inputs = numpy.asfarray(data_values[1:]) / 255.0 * 0.99 + 0.01\n",
    "    \n",
    "    target = int(data_values[0])\n",
    "    targets = numpy.zeros(output_nodes) + 0.01\n",
    "    targets[target] = 0.99\n",
    "    \n",
    "    n.train(inputs, targets)\n",
    "    pass\n",
    "# n.dump()\n",
    "\n",
    "# test\n",
    "test_file = open(test_file, \"r\")\n",
    "test_list = test_file.readlines()\n",
    "test_file.close()\n",
    "\n",
    "score_card = []\n",
    "for line in test_list:\n",
    "    test_values = line.split(',')\n",
    "    inputs = numpy.asfarray(test_values[1:]) / 255.0 * 0.99 + 0.01\n",
    "    \n",
    "    target = int(test_values[0])\n",
    "    outputs = n.query(inputs)\n",
    "    # print(outputs)\n",
    "    \n",
    "    label = numpy.argmax(outputs)\n",
    "    if target == label:\n",
    "        score_card.append(1)\n",
    "    else:\n",
    "        score_card.append(0)    \n",
    "    pass\n",
    "# print(score_card)\n",
    "score_card_array = numpy.asarray(score_card)\n",
    "print(\"performance = \", score_card_array.sum() / score_card_array.size)\n"
   ]
  },
  {
   "cell_type": "markdown",
   "metadata": {},
   "source": [
    "### 增加训练次数 epochs\n",
    "通过提供更多爬下斜坡的机会，有助力在梯度下降过程中进行权重更新。"
   ]
  },
  {
   "cell_type": "code",
   "execution_count": 170,
   "metadata": {},
   "outputs": [
    {
     "name": "stdout",
     "output_type": "stream",
     "text": [
      "performance =  0.9708\n"
     ]
    }
   ],
   "source": [
    "import numpy\n",
    "import matplotlib.pyplot\n",
    "import scipy.special\n",
    "\n",
    "class NeuralNetwork:\n",
    "    \n",
    "    def __init__(self, input_nodes, hidden_nodes, output_nodes, learning_rate):\n",
    "        self.input_nodes = input_nodes\n",
    "        self.hidden_nodes = hidden_nodes\n",
    "        self.output_nodes = output_nodes\n",
    "\n",
    "        self.learning_rate = learning_rate\n",
    "        \n",
    "        self.weight_input_hidden = numpy.random.rand(self.hidden_nodes, self.input_nodes) - 0.5\n",
    "        self.weight_hidden_output = numpy.random.rand(self.output_nodes, self.hidden_nodes) - 0.5\n",
    "        \n",
    "        self.activation_function = lambda x: scipy.special.expit(x)\n",
    "        pass\n",
    "    \n",
    "    def train(self, inputs_list, targets_list):\n",
    "        ### 以下与 query() 相同\n",
    "        inputs = numpy.array(inputs_list, ndmin=2).T\n",
    "        \n",
    "        hidden_inputs = numpy.dot(self.weight_input_hidden, inputs)\n",
    "        hidden_outputs = self.activation_function(hidden_inputs)\n",
    "        \n",
    "        final_inputs = numpy.dot(self.weight_hidden_output, hidden_outputs)\n",
    "        final_outputs = self.activation_function(final_inputs)\n",
    "        \n",
    "        targets = numpy.array(targets_list, ndmin=2).T\n",
    "        ### 计算误差\n",
    "        output_errors = targets - final_outputs\n",
    "        ### 使用 output_errors 优化 hidden 层与 output 层之间的权重\n",
    "        self.weight_hidden_output += self.learning_rate * \\\n",
    "                numpy.dot(output_errors * final_outputs * (1 - final_outputs), numpy.transpose(hidden_outputs))\n",
    "\n",
    "        ### 计算 hidden 节点反向传播的误差\n",
    "        hidden_errors = numpy.dot(self.weight_hidden_output.T, output_errors)\n",
    "        ### 使用 hidden_errors 优化  input 层与 hidden 层之间的权重\n",
    "        self.weight_input_hidden += self.learning_rate * \\\n",
    "                numpy.dot(hidden_errors * hidden_outputs * (1 - hidden_outputs), numpy.transpose(inputs))\n",
    "\n",
    "        pass\n",
    "    \n",
    "    def query(self, inputs_list):\n",
    "        inputs = numpy.array(inputs_list, ndmin=2).T\n",
    "        \n",
    "        hidden_inputs = numpy.dot(self.weight_input_hidden, inputs)\n",
    "        hidden_outputs = self.activation_function(hidden_inputs)\n",
    "        \n",
    "        final_inputs = numpy.dot(self.weight_hidden_output, hidden_outputs)\n",
    "        final_outputs = self.activation_function(final_inputs)\n",
    "        \n",
    "        return final_outputs\n",
    "    \n",
    "    def dump(self):\n",
    "        print(\"================dump=====================\")\n",
    "        print(\"        input_nodes  = \", self.input_nodes)\n",
    "        print(\"        hidden_nodes = \", self.hidden_nodes)\n",
    "        print(\"        output_nodes = \", self.output_nodes)\n",
    "        print(\" weight_input_hidden = \", self.weight_input_hidden.shape, \"\\n\", self.weight_input_hidden)\n",
    "        print(\"weight_hidden_output = \", self.weight_hidden_output.shape, \"\\n\", self.weight_hidden_output)\n",
    "        print(\"=================end=====================\")\n",
    "        pass\n",
    "    \n",
    "input_nodes = 784 # 28 * 28\n",
    "hidden_nodes = 200\n",
    "output_nodes = 10\n",
    "\n",
    "learning_rate = 0.1\n",
    "\n",
    "n = NeuralNetwork(input_nodes, hidden_nodes, output_nodes, learning_rate)\n",
    "# n.dump()\n",
    "\n",
    "train_file = \"mnist_dataset/mnist_train_100.csv\"\n",
    "test_file = \"mnist_dataset/mnist_test_10.csv\"\n",
    "train_file = \"mnist_dataset/mnist_train.csv\"\n",
    "test_file = \"mnist_dataset/mnist_test.csv\"\n",
    "\n",
    "# MNIST\n",
    "data_file = open(train_file, 'r')\n",
    "data_list = data_file.readlines()\n",
    "data_file.close()\n",
    "\n",
    "epochs = 5\n",
    "# 循环 epochs 次\n",
    "for e in range(epochs):\n",
    "    # train\n",
    "    for line in data_list:\n",
    "        data_values = line.split(',')\n",
    "        inputs = numpy.asfarray(data_values[1:]) / 255.0 * 0.99 + 0.01\n",
    "\n",
    "        target = int(data_values[0])\n",
    "        targets = numpy.zeros(output_nodes) + 0.01\n",
    "        targets[target] = 0.99\n",
    "\n",
    "        n.train(inputs, targets)\n",
    "        pass\n",
    "    pass\n",
    "# n.dump()\n",
    "\n",
    "# test\n",
    "test_file = open(test_file, \"r\")\n",
    "test_list = test_file.readlines()\n",
    "test_file.close()\n",
    "\n",
    "score_card = []\n",
    "for line in test_list:\n",
    "    test_values = line.split(',')\n",
    "    inputs = numpy.asfarray(test_values[1:]) / 255.0 * 0.99 + 0.01\n",
    "    \n",
    "    target = int(test_values[0])\n",
    "    outputs = n.query(inputs)\n",
    "    # print(outputs)\n",
    "    \n",
    "    label = numpy.argmax(outputs)\n",
    "    if target == label:\n",
    "        score_card.append(1)\n",
    "    else:\n",
    "        score_card.append(0)    \n",
    "    pass\n",
    "# print(score_card)\n",
    "score_card_array = numpy.asarray(score_card)\n",
    "print(\"performance = \", score_card_array.sum() / score_card_array.size)\n"
   ]
  },
  {
   "cell_type": "markdown",
   "metadata": {},
   "source": [
    "## 改进"
   ]
  },
  {
   "cell_type": "markdown",
   "metadata": {},
   "source": [
    "### 整合代码，将所有的参数提取出来，并增加时间统计"
   ]
  },
  {
   "cell_type": "code",
   "execution_count": 9,
   "metadata": {
    "ExecuteTime": {
     "end_time": "2020-02-09T06:33:43.171634Z",
     "start_time": "2020-02-09T06:33:43.122883Z"
    }
   },
   "outputs": [],
   "source": [
    "import time\n",
    "import numpy\n",
    "import matplotlib.pyplot\n",
    "import scipy.special\n",
    "\n",
    "class NeuralNetwork:\n",
    "    \n",
    "    def __init__(self, input_nodes, hidden_nodes, output_nodes, learning_rate):\n",
    "        self.input_nodes = input_nodes\n",
    "        self.hidden_nodes = hidden_nodes\n",
    "        self.output_nodes = output_nodes\n",
    "\n",
    "        self.learning_rate = learning_rate\n",
    "        \n",
    "        self.weight_input_hidden = numpy.random.rand(self.hidden_nodes, self.input_nodes) - 0.5\n",
    "        self.weight_hidden_output = numpy.random.rand(self.output_nodes, self.hidden_nodes) - 0.5\n",
    "        \n",
    "        self.activation_function = lambda x: scipy.special.expit(x)\n",
    "        pass\n",
    "    \n",
    "    def train(self, inputs_list, targets_list):\n",
    "        ### 以下与 query() 相同\n",
    "        inputs = numpy.array(inputs_list, ndmin=2).T\n",
    "        \n",
    "        hidden_inputs = numpy.dot(self.weight_input_hidden, inputs)\n",
    "        hidden_outputs = self.activation_function(hidden_inputs)\n",
    "        \n",
    "        final_inputs = numpy.dot(self.weight_hidden_output, hidden_outputs)\n",
    "        final_outputs = self.activation_function(final_inputs)\n",
    "        \n",
    "        targets = numpy.array(targets_list, ndmin=2).T\n",
    "        ### 计算误差\n",
    "        output_errors = targets - final_outputs\n",
    "        ### 使用 output_errors 优化 hidden 层与 output 层之间的权重\n",
    "        self.weight_hidden_output += self.learning_rate * \\\n",
    "                numpy.dot(output_errors * final_outputs * (1 - final_outputs), numpy.transpose(hidden_outputs))\n",
    "\n",
    "        ### 计算 hidden 节点反向传播的误差\n",
    "        hidden_errors = numpy.dot(self.weight_hidden_output.T, output_errors)\n",
    "        ### 使用 hidden_errors 优化  input 层与 hidden 层之间的权重\n",
    "        self.weight_input_hidden += self.learning_rate * \\\n",
    "                numpy.dot(hidden_errors * hidden_outputs * (1 - hidden_outputs), numpy.transpose(inputs))\n",
    "\n",
    "        pass\n",
    "    \n",
    "    def query(self, inputs_list):\n",
    "        inputs = numpy.array(inputs_list, ndmin=2).T\n",
    "        \n",
    "        hidden_inputs = numpy.dot(self.weight_input_hidden, inputs)\n",
    "        hidden_outputs = self.activation_function(hidden_inputs)\n",
    "        \n",
    "        final_inputs = numpy.dot(self.weight_hidden_output, hidden_outputs)\n",
    "        final_outputs = self.activation_function(final_inputs)\n",
    "        \n",
    "        return final_outputs\n",
    "    \n",
    "    def dump(self):\n",
    "        print(\"================dump=====================\")\n",
    "        print(\"        input_nodes  = \", self.input_nodes)\n",
    "        print(\"        hidden_nodes = \", self.hidden_nodes)\n",
    "        print(\"        output_nodes = \", self.output_nodes)\n",
    "        print(\" weight_input_hidden = \", self.weight_input_hidden.shape, \"\\n\", self.weight_input_hidden)\n",
    "        print(\"weight_hidden_output = \", self.weight_hidden_output.shape, \"\\n\", self.weight_hidden_output)\n",
    "        print(\"=================end=====================\")\n",
    "        pass\n",
    "\n",
    "def timeit(method):\n",
    "\n",
    "    def timed(*args, **kw):\n",
    "        ts = time.time()\n",
    "        result = method(*args, **kw)\n",
    "        te = time.time()\n",
    "\n",
    "        print('................................cost: %2.2f sec' % (te-ts))\n",
    "        return result\n",
    "\n",
    "    return timed\n",
    "\n",
    "@timeit    \n",
    "def pilot(input_nodes = 784, \\\n",
    "          hidden_nodes = 200, \\\n",
    "          output_nodes = 10, \\\n",
    "          learning_rate = 0.1, \\\n",
    "          train_file = \"mnist_dataset/mnist_train_100.csv\", \\\n",
    "          test_file = \"mnist_dataset/mnist_test_10.csv\", \\\n",
    "          epochs = 1):\n",
    "\n",
    "    n = NeuralNetwork(input_nodes, hidden_nodes, output_nodes, learning_rate)\n",
    "    # n.dump()\n",
    "\n",
    "    # MNIST\n",
    "    data_file = open(train_file, 'r')\n",
    "    data_list = data_file.readlines()\n",
    "    data_file.close()\n",
    "\n",
    "\n",
    "    # 循环 epochs 次\n",
    "    for e in range(epochs):\n",
    "        # train\n",
    "        for line in data_list:\n",
    "            data_values = line.split(',')\n",
    "            inputs = numpy.asfarray(data_values[1:]) / 255.0 * 0.99 + 0.01\n",
    "\n",
    "            target = int(data_values[0])\n",
    "            targets = numpy.zeros(output_nodes) + 0.01\n",
    "            targets[target] = 0.99\n",
    "\n",
    "            n.train(inputs, targets)\n",
    "            pass\n",
    "        pass\n",
    "    # n.dump()\n",
    "\n",
    "    # test\n",
    "    test_file = open(test_file, \"r\")\n",
    "    test_list = test_file.readlines()\n",
    "    test_file.close()\n",
    "\n",
    "    score_card = []\n",
    "    for line in test_list:\n",
    "        test_values = line.split(',')\n",
    "        inputs = numpy.asfarray(test_values[1:]) / 255.0 * 0.99 + 0.01\n",
    "\n",
    "        target = int(test_values[0])\n",
    "        outputs = n.query(inputs)\n",
    "        # print(outputs)\n",
    "\n",
    "        label = numpy.argmax(outputs)\n",
    "        if target == label:\n",
    "            score_card.append(1)\n",
    "        else:\n",
    "            score_card.append(0)    \n",
    "        pass\n",
    "    # print(score_card)\n",
    "    score_card_array = numpy.asarray(score_card)\n",
    "    performance = score_card_array.sum() / score_card_array.size\n",
    "    \n",
    "    return {\"performance\": performance, \"score_card\": score_card_array}"
   ]
  },
  {
   "cell_type": "markdown",
   "metadata": {},
   "source": [
    "### 调整 learning_rate"
   ]
  },
  {
   "cell_type": "code",
   "execution_count": 15,
   "metadata": {
    "ExecuteTime": {
     "end_time": "2020-02-09T08:06:55.215536Z",
     "start_time": "2020-02-09T07:55:20.121584Z"
    },
    "code_folding": []
   },
   "outputs": [
    {
     "name": "stdout",
     "output_type": "stream",
     "text": [
      "................................cost: 69.27 sec\n",
      "learning_rate =  0.1\n",
      "> performance =  0.9526\n",
      "  score_card  =  [1 1 1 ... 1 1 1]\n",
      "\n",
      "................................cost: 69.55 sec\n",
      "learning_rate =  0.2\n",
      "> performance =  0.9503\n",
      "  score_card  =  [1 1 1 ... 1 1 1]\n",
      "\n",
      "................................cost: 69.96 sec\n",
      "learning_rate =  0.3\n",
      "> performance =  0.947\n",
      "  score_card  =  [1 1 1 ... 1 1 1]\n",
      "\n",
      "................................cost: 69.06 sec\n",
      "learning_rate =  0.4\n",
      "> performance =  0.9274\n",
      "  score_card  =  [1 1 1 ... 1 1 1]\n",
      "\n",
      "................................cost: 69.90 sec\n",
      "learning_rate =  0.5\n",
      "> performance =  0.9086\n",
      "  score_card  =  [1 1 1 ... 1 0 1]\n",
      "\n",
      "................................cost: 69.51 sec\n",
      "learning_rate =  0.6\n",
      "> performance =  0.8957\n",
      "  score_card  =  [1 0 1 ... 1 1 1]\n",
      "\n",
      "................................cost: 68.64 sec\n",
      "learning_rate =  0.7\n",
      "> performance =  0.8528\n",
      "  score_card  =  [1 1 1 ... 0 1 1]\n",
      "\n",
      "................................cost: 69.79 sec\n",
      "learning_rate =  0.8\n",
      "> performance =  0.8568\n",
      "  score_card  =  [1 1 1 ... 0 1 1]\n",
      "\n",
      "................................cost: 69.12 sec\n",
      "learning_rate =  0.9\n",
      "> performance =  0.7975\n",
      "  score_card  =  [1 1 1 ... 0 1 1]\n",
      "\n",
      "................................cost: 70.02 sec\n",
      "learning_rate =  1.0\n",
      "> performance =  0.8613\n",
      "  score_card  =  [1 1 1 ... 0 1 1]\n",
      "\n",
      "[0.1, 0.2, 0.3, 0.4, 0.5, 0.6, 0.7, 0.8, 0.9, 1.0]\n"
     ]
    },
    {
     "data": {
      "image/png": "[encoded data removed]",
      "text/plain": [
       "<Figure size 432x288 with 1 Axes>"
      ]
     },
     "metadata": {
      "needs_background": "light"
     },
     "output_type": "display_data"
    }
   ],
   "source": [
    "import matplotlib.pyplot\n",
    "\n",
    "x_list = []\n",
    "y_list = []\n",
    "for lr in range(1, 11):\n",
    "    learning_rate = lr / 10\n",
    "    result = pilot(learning_rate = learning_rate, \\\n",
    "                  train_file = \"mnist_dataset/mnist_train.csv\", \\\n",
    "                   test_file = \"mnist_dataset/mnist_test.csv\")\n",
    "    \n",
    "    x_list.append(learning_rate)\n",
    "    y_list.append(result[\"performance\"])\n",
    "    \n",
    "    print(\"learning_rate = \", learning_rate)\n",
    "    print(\"> performance = \", result[\"performance\"])\n",
    "    print(\"  score_card  = \", result[\"score_card\"])\n",
    "    print()\n",
    "    pass\n",
    "\n",
    "print(x_list)\n",
    "# print(y_list)\n",
    "\n",
    "fig = matplotlib.pyplot.figure() \n",
    "ax = fig.add_subplot(111) \n",
    "ax.set(xlim=[0.1, 1.0], ylim=[0.7, 1.0], title='performance & learning_rate', ylabel='performance', xlabel='learning_rate')\n",
    "ax.yaxis.grid(True)\n",
    "ax.plot(x_list, y_list, 'bo--')\n",
    "fig.show()"
   ]
  },
  {
   "cell_type": "markdown",
   "metadata": {},
   "source": [
    "从图中可看出，learning_rate 取 0.2 为佳"
   ]
  },
  {
   "cell_type": "markdown",
   "metadata": {},
   "source": [
    "### 调整 epochs"
   ]
  },
  {
   "cell_type": "code",
   "execution_count": 11,
   "metadata": {
    "ExecuteTime": {
     "end_time": "2020-02-09T07:45:23.137191Z",
     "start_time": "2020-02-09T06:45:08.581177Z"
    }
   },
   "outputs": [
    {
     "name": "stdout",
     "output_type": "stream",
     "text": [
      "................................cost: 72.76 sec\n",
      "epochs        =  1\n",
      "> performance =  0.9531\n",
      "  score_card  =  [1 1 1 ... 1 1 1]\n",
      "\n",
      "................................cost: 135.41 sec\n",
      "epochs        =  2\n",
      "> performance =  0.9667\n",
      "  score_card  =  [1 1 1 ... 1 1 1]\n",
      "\n",
      "................................cost: 199.87 sec\n",
      "epochs        =  3\n",
      "> performance =  0.9673\n",
      "  score_card  =  [1 1 1 ... 1 1 1]\n",
      "\n",
      "................................cost: 264.85 sec\n",
      "epochs        =  4\n",
      "> performance =  0.9709\n",
      "  score_card  =  [1 1 1 ... 1 1 1]\n",
      "\n",
      "................................cost: 328.97 sec\n",
      "epochs        =  5\n",
      "> performance =  0.9697\n",
      "  score_card  =  [1 1 1 ... 1 1 1]\n",
      "\n",
      "................................cost: 397.16 sec\n",
      "epochs        =  6\n",
      "> performance =  0.9703\n",
      "  score_card  =  [1 1 1 ... 1 1 1]\n",
      "\n",
      "................................cost: 455.15 sec\n",
      "epochs        =  7\n",
      "> performance =  0.9692\n",
      "  score_card  =  [1 1 1 ... 1 1 1]\n",
      "\n",
      "................................cost: 520.68 sec\n",
      "epochs        =  8\n",
      "> performance =  0.9709\n",
      "  score_card  =  [1 1 1 ... 1 1 1]\n",
      "\n",
      "................................cost: 586.65 sec\n",
      "epochs        =  9\n",
      "> performance =  0.9724\n",
      "  score_card  =  [1 1 1 ... 1 1 1]\n",
      "\n",
      "................................cost: 652.84 sec\n",
      "epochs        =  10\n",
      "> performance =  0.9698\n",
      "  score_card  =  [1 1 1 ... 1 1 1]\n",
      "\n",
      "[1, 2, 3, 4, 5, 6, 7, 8, 9, 10]\n"
     ]
    },
    {
     "data": {
      "image/png": "[encoded data removed]",
      "text/plain": [
       "<Figure size 432x288 with 1 Axes>"
      ]
     },
     "metadata": {
      "needs_background": "light"
     },
     "output_type": "display_data"
    }
   ],
   "source": [
    "import matplotlib.pyplot\n",
    "\n",
    "x_list = []\n",
    "y_list = []\n",
    "for epochs in range(1, 11):\n",
    "    result = pilot(epochs = epochs, \\\n",
    "                  train_file = \"mnist_dataset/mnist_train.csv\", \\\n",
    "                   test_file = \"mnist_dataset/mnist_test.csv\")\n",
    "    \n",
    "    x_list.append(epochs)\n",
    "    y_list.append(result[\"performance\"])\n",
    "    \n",
    "    print(\"epochs        = \", epochs)\n",
    "    print(\"> performance = \", result[\"performance\"])\n",
    "    print(\"  score_card  = \", result[\"score_card\"])\n",
    "    print()\n",
    "    pass\n",
    "\n",
    "print(x_list)\n",
    "# print(y_list)\n",
    "\n",
    "fig = matplotlib.pyplot.figure() \n",
    "ax = fig.add_subplot(111) \n",
    "ax.set(xlim=[0, 11], ylim=[0.8, 1.0], title='performance & epochs', ylabel='performance', xlabel='epochs')\n",
    "ax.yaxis.grid(True)\n",
    "ax.plot(x_list, y_list, 'bo--')\n",
    "fig.show()"
   ]
  },
  {
   "cell_type": "markdown",
   "metadata": {},
   "source": [
    "从图中可看出，epochs 取 2 为佳"
   ]
  },
  {
   "cell_type": "markdown",
   "metadata": {},
   "source": [
    "### 调整 hidden_nodes"
   ]
  },
  {
   "cell_type": "code",
   "execution_count": 12,
   "metadata": {
    "ExecuteTime": {
     "end_time": "2020-02-09T07:55:19.180726Z",
     "start_time": "2020-02-09T07:45:23.139574Z"
    }
   },
   "outputs": [
    {
     "name": "stdout",
     "output_type": "stream",
     "text": [
      "................................cost: 15.00 sec\n",
      "hidden_nodes  =  10\n",
      "> performance =  0.8696\n",
      "  score_card  =  [1 1 1 ... 1 1 1]\n",
      "\n",
      "................................cost: 17.83 sec\n",
      "hidden_nodes  =  20\n",
      "> performance =  0.889\n",
      "  score_card  =  [1 1 1 ... 1 0 1]\n",
      "\n",
      "................................cost: 25.04 sec\n",
      "hidden_nodes  =  50\n",
      "> performance =  0.9368\n",
      "  score_card  =  [1 1 1 ... 1 1 1]\n",
      "\n",
      "................................cost: 40.27 sec\n",
      "hidden_nodes  =  100\n",
      "> performance =  0.9467\n",
      "  score_card  =  [1 1 1 ... 1 1 1]\n",
      "\n",
      "................................cost: 68.94 sec\n",
      "hidden_nodes  =  200\n",
      "> performance =  0.9567\n",
      "  score_card  =  [1 1 1 ... 1 1 1]\n",
      "\n",
      "................................cost: 89.83 sec\n",
      "hidden_nodes  =  300\n",
      "> performance =  0.9541\n",
      "  score_card  =  [1 1 1 ... 1 1 1]\n",
      "\n",
      "................................cost: 97.44 sec\n",
      "hidden_nodes  =  400\n",
      "> performance =  0.9547\n",
      "  score_card  =  [1 1 1 ... 1 1 1]\n",
      "\n",
      "................................cost: 112.97 sec\n",
      "hidden_nodes  =  500\n",
      "> performance =  0.9541\n",
      "  score_card  =  [1 1 1 ... 1 1 1]\n",
      "\n",
      "................................cost: 128.49 sec\n",
      "hidden_nodes  =  600\n",
      "> performance =  0.9538\n",
      "  score_card  =  [1 1 1 ... 1 1 1]\n",
      "\n",
      "[10, 20, 50, 100, 200, 300, 400, 500, 600]\n"
     ]
    },
    {
     "data": {
      "image/png": "[encoded data removed]",
      "text/plain": [
       "<Figure size 432x288 with 1 Axes>"
      ]
     },
     "metadata": {
      "needs_background": "light"
     },
     "output_type": "display_data"
    }
   ],
   "source": [
    "import matplotlib.pyplot\n",
    "\n",
    "x_list = []\n",
    "y_list = []\n",
    "for hidden_nodes in [10, 20, 50, *range(100, 700, 100)]:\n",
    "    result = pilot(hidden_nodes = hidden_nodes, \\\n",
    "                  train_file = \"mnist_dataset/mnist_train.csv\", \\\n",
    "                   test_file = \"mnist_dataset/mnist_test.csv\")\n",
    "    \n",
    "    x_list.append(hidden_nodes)\n",
    "    y_list.append(result[\"performance\"])\n",
    "    \n",
    "    print(\"hidden_nodes  = \", hidden_nodes)\n",
    "    print(\"> performance = \", result[\"performance\"])\n",
    "    print(\"  score_card  = \", result[\"score_card\"])\n",
    "    print()\n",
    "    pass\n",
    "\n",
    "print(x_list)\n",
    "# print(y_list)\n",
    "\n",
    "fig = matplotlib.pyplot.figure() \n",
    "ax = fig.add_subplot(111) \n",
    "ax.set(xlim=[0, 1000], ylim=[0.8, 1.0], title='performance & hidden_nodes', ylabel='performance', xlabel='hidden_nodes')\n",
    "ax.yaxis.grid(True)\n",
    "ax.plot(x_list, y_list, 'bo--')\n",
    "fig.show()"
   ]
  },
  {
   "cell_type": "code",
   "execution_count": 13,
   "metadata": {
    "ExecuteTime": {
     "end_time": "2020-02-09T07:55:19.510858Z",
     "start_time": "2020-02-09T07:55:19.183144Z"
    }
   },
   "outputs": [
    {
     "name": "stdout",
     "output_type": "stream",
     "text": [
      "[[255. 255. 255. 255. 255. 255. 255. 255. 255. 255. 255. 255. 255. 255.\n",
      "  255. 255. 255. 255. 255. 255. 255. 255. 255. 255. 255. 255. 255. 255.]\n",
      " [255. 255. 255. 255. 255. 255. 255. 255. 255. 255. 255. 255. 255. 255.\n",
      "  255. 255. 255. 255. 255. 255. 255. 255. 255. 255. 255. 255. 255. 255.]\n",
      " [255. 255. 255. 255. 255. 255. 255. 255. 255. 255. 255. 255. 255. 255.\n",
      "  255. 255. 255. 255. 255. 255. 255. 255. 255. 255. 255. 255. 255. 255.]\n",
      " [255. 255. 255. 255. 255. 255. 255. 255. 255. 255. 255. 255. 255. 255.\n",
      "  255. 255. 255. 255. 255. 255. 255. 255. 255. 255. 255. 255. 255. 255.]\n",
      " [255. 255. 255. 255. 255. 255. 255. 255. 255. 255. 255. 239. 123.  73.\n",
      "   98. 181. 255. 255. 255. 255. 255. 255. 255. 255. 255. 255. 255. 255.]\n",
      " [255. 255. 255. 255. 255. 255. 255. 255. 255. 255. 187.  53.  53.  40.\n",
      "    0.   0. 104. 253. 255. 255. 255. 255. 255. 255. 255. 255. 255. 255.]\n",
      " [255. 255. 255. 255. 255. 255. 255. 255. 255. 196.  76. 173. 255. 255.\n",
      "  209.  20.   0. 166. 255. 255. 255. 255. 255. 255. 255. 255. 255. 255.]\n",
      " [255. 255. 255. 255. 255. 255. 255. 255. 255. 169. 183. 255. 255. 255.\n",
      "  255. 128.   0. 100. 255. 255. 255. 255. 255. 255. 255. 255. 255. 255.]\n",
      " [255. 255. 255. 255. 255. 255. 255. 255. 255. 255. 255. 255. 255. 255.\n",
      "  255. 162.   0.  99. 255. 255. 255. 255. 255. 255. 255. 255. 255. 255.]\n",
      " [255. 255. 255. 255. 255. 255. 255. 255. 255. 255. 255. 255. 255. 255.\n",
      "  255. 145.   0. 149. 255. 255. 255. 255. 255. 255. 255. 255. 255. 255.]\n",
      " [255. 255. 255. 255. 255. 255. 255. 255. 255. 255. 255. 255. 255. 255.\n",
      "  255.  80.  34. 234. 255. 255. 255. 255. 255. 255. 255. 255. 255. 255.]\n",
      " [255. 255. 255. 255. 255. 255. 255. 255. 255. 255. 255. 255. 255. 255.\n",
      "  201.  29. 161. 255. 255. 255. 255. 255. 255. 255. 255. 255. 255. 255.]\n",
      " [255. 255. 255. 255. 255. 255. 255. 255. 255. 255. 255. 255. 255. 254.\n",
      "   80. 114. 255. 255. 255. 255. 255. 255. 255. 255. 255. 255. 255. 255.]\n",
      " [255. 255. 255. 255. 255. 255. 255. 255. 255. 255. 255. 255. 255. 137.\n",
      "   94. 250. 255. 255. 255. 255. 255. 255. 255. 255. 255. 255. 255. 255.]\n",
      " [255. 255. 255. 255. 255. 255. 255. 255. 255. 255. 255. 255. 164.  82.\n",
      "  233. 255. 255. 255. 255. 255. 255. 255. 255. 255. 255. 255. 255. 255.]\n",
      " [255. 255. 255. 255. 255. 255. 255. 255. 255. 255. 255. 188.  79. 226.\n",
      "  255. 255. 255. 255. 217. 253. 255. 255. 255. 255. 255. 255. 255. 255.]\n",
      " [255. 255. 255. 255. 255. 255. 255. 255. 255. 255. 195.  48. 174. 255.\n",
      "  254. 250. 220.  91. 132. 254. 255. 255. 255. 255. 255. 255. 255. 255.]\n",
      " [255. 255. 255. 255. 255. 255. 255. 255. 245. 138.   0.   0.   0.   0.\n",
      "    0.   0.   0.   0. 210. 255. 255. 255. 255. 255. 255. 255. 255. 255.]\n",
      " [255. 255. 255. 255. 255. 255. 255. 255. 236. 137. 127. 143. 126. 121.\n",
      "  121. 121. 127. 182. 255. 255. 255. 255. 255. 255. 255. 255. 255. 255.]\n",
      " [255. 255. 255. 255. 255. 255. 255. 255. 255. 255. 255. 255. 255. 255.\n",
      "  255. 255. 255. 255. 255. 255. 255. 255. 255. 255. 255. 255. 255. 255.]\n",
      " [255. 255. 255. 255. 255. 255. 255. 255. 255. 255. 255. 255. 255. 255.\n",
      "  255. 255. 255. 255. 255. 255. 255. 255. 255. 255. 255. 255. 255. 255.]\n",
      " [255. 255. 255. 255. 255. 255. 255. 255. 255. 255. 255. 255. 255. 255.\n",
      "  255. 255. 255. 255. 255. 255. 255. 255. 255. 255. 255. 255. 255. 255.]\n",
      " [255. 255. 255. 255. 255. 255. 255. 255. 255. 255. 255. 255. 255. 255.\n",
      "  255. 255. 255. 255. 255. 255. 255. 255. 255. 255. 255. 255. 255. 255.]\n",
      " [255. 255. 255. 255. 255. 255. 255. 255. 255. 255. 255. 255. 255. 255.\n",
      "  255. 255. 255. 255. 255. 255. 255. 255. 255. 255. 255. 255. 255. 255.]\n",
      " [255. 255. 255. 255. 255. 255. 255. 255. 255. 255. 255. 255. 255. 255.\n",
      "  255. 255. 255. 255. 255. 255. 255. 255. 255. 255. 255. 255. 255. 255.]\n",
      " [255. 255. 255. 255. 255. 255. 255. 255. 255. 255. 255. 255. 255. 255.\n",
      "  255. 255. 255. 255. 255. 255. 255. 255. 255. 255. 255. 255. 255. 255.]\n",
      " [255. 255. 255. 255. 255. 255. 255. 255. 255. 255. 255. 255. 255. 255.\n",
      "  255. 255. 255. 255. 255. 255. 255. 255. 255. 255. 255. 255. 255. 255.]\n",
      " [255. 255. 255. 255. 255. 255. 255. 255. 255. 255. 255. 255. 255. 255.\n",
      "  255. 255. 255. 255. 255. 255. 255. 255. 255. 255. 255. 255. 255. 255.]]\n"
     ]
    },
    {
     "data": {
      "image/png": "[encoded data removed]",
      "text/plain": [
       "<Figure size 432x288 with 1 Axes>"
      ]
     },
     "metadata": {
      "needs_background": "light"
     },
     "output_type": "display_data"
    },
    {
     "name": "stdout",
     "output_type": "stream",
     "text": [
      "[[0.01       0.01       0.01       0.01       0.01       0.01\n",
      "  0.01       0.01       0.01       0.01       0.01       0.01\n",
      "  0.01       0.01       0.01       0.01       0.01       0.01\n",
      "  0.01       0.01       0.01       0.01       0.01       0.01\n",
      "  0.01       0.01       0.01       0.01      ]\n",
      " [0.01       0.01       0.01       0.01       0.01       0.01\n",
      "  0.01       0.01       0.01       0.01       0.01       0.01\n",
      "  0.01       0.01       0.01       0.01       0.01       0.01\n",
      "  0.01       0.01       0.01       0.01       0.01       0.01\n",
      "  0.01       0.01       0.01       0.01      ]\n",
      " [0.01       0.01       0.01       0.01       0.01       0.01\n",
      "  0.01       0.01       0.01       0.01       0.01       0.01\n",
      "  0.01       0.01       0.01       0.01       0.01       0.01\n",
      "  0.01       0.01       0.01       0.01       0.01       0.01\n",
      "  0.01       0.01       0.01       0.01      ]\n",
      " [0.01       0.01       0.01       0.01       0.01       0.01\n",
      "  0.01       0.01       0.01       0.01       0.01       0.01\n",
      "  0.01       0.01       0.01       0.01       0.01       0.01\n",
      "  0.01       0.01       0.01       0.01       0.01       0.01\n",
      "  0.01       0.01       0.01       0.01      ]\n",
      " [0.01       0.01       0.01       0.01       0.01       0.01\n",
      "  0.01       0.01       0.01       0.01       0.01       0.07211765\n",
      "  0.5224706  0.71658826 0.6195294  0.2972941  0.01       0.01\n",
      "  0.01       0.01       0.01       0.01       0.01       0.01\n",
      "  0.01       0.01       0.01       0.01      ]\n",
      " [0.01       0.01       0.01       0.01       0.01       0.01\n",
      "  0.01       0.01       0.01       0.01       0.27400002 0.7942353\n",
      "  0.7942353  0.8447059  1.         1.         0.59623533 0.01776471\n",
      "  0.01       0.01       0.01       0.01       0.01       0.01\n",
      "  0.01       0.01       0.01       0.01      ]\n",
      " [0.01       0.01       0.01       0.01       0.01       0.01\n",
      "  0.01       0.01       0.01       0.23905884 0.7049412  0.32835296\n",
      "  0.01       0.01       0.18858825 0.92235297 1.         0.35552943\n",
      "  0.01       0.01       0.01       0.01       0.01       0.01\n",
      "  0.01       0.01       0.01       0.01      ]\n",
      " [0.01       0.01       0.01       0.01       0.01       0.01\n",
      "  0.01       0.01       0.01       0.34388235 0.2895294  0.01\n",
      "  0.01       0.01       0.01       0.50305885 1.         0.6117647\n",
      "  0.01       0.01       0.01       0.01       0.01       0.01\n",
      "  0.01       0.01       0.01       0.01      ]\n",
      " [0.01       0.01       0.01       0.01       0.01       0.01\n",
      "  0.01       0.01       0.01       0.01       0.01       0.01\n",
      "  0.01       0.01       0.01       0.37105882 1.         0.6156471\n",
      "  0.01       0.01       0.01       0.01       0.01       0.01\n",
      "  0.01       0.01       0.01       0.01      ]\n",
      " [0.01       0.01       0.01       0.01       0.01       0.01\n",
      "  0.01       0.01       0.01       0.01       0.01       0.01\n",
      "  0.01       0.01       0.01       0.43705884 1.         0.4215294\n",
      "  0.01       0.01       0.01       0.01       0.01       0.01\n",
      "  0.01       0.01       0.01       0.01      ]\n",
      " [0.01       0.01       0.01       0.01       0.01       0.01\n",
      "  0.01       0.01       0.01       0.01       0.01       0.01\n",
      "  0.01       0.01       0.01       0.68941176 0.86800003 0.09152941\n",
      "  0.01       0.01       0.01       0.01       0.01       0.01\n",
      "  0.01       0.01       0.01       0.01      ]\n",
      " [0.01       0.01       0.01       0.01       0.01       0.01\n",
      "  0.01       0.01       0.01       0.01       0.01       0.01\n",
      "  0.01       0.01       0.21964706 0.8874118  0.37494117 0.01\n",
      "  0.01       0.01       0.01       0.01       0.01       0.01\n",
      "  0.01       0.01       0.01       0.01      ]\n",
      " [0.01       0.01       0.01       0.01       0.01       0.01\n",
      "  0.01       0.01       0.01       0.01       0.01       0.01\n",
      "  0.01       0.01388235 0.68941176 0.5574118  0.01       0.01\n",
      "  0.01       0.01       0.01       0.01       0.01       0.01\n",
      "  0.01       0.01       0.01       0.01      ]\n",
      " [0.01       0.01       0.01       0.01       0.01       0.01\n",
      "  0.01       0.01       0.01       0.01       0.01       0.01\n",
      "  0.01       0.46811765 0.6350588  0.02941176 0.01       0.01\n",
      "  0.01       0.01       0.01       0.01       0.01       0.01\n",
      "  0.01       0.01       0.01       0.01      ]\n",
      " [0.01       0.01       0.01       0.01       0.01       0.01\n",
      "  0.01       0.01       0.01       0.01       0.01       0.01\n",
      "  0.36329412 0.68164706 0.09541176 0.01       0.01       0.01\n",
      "  0.01       0.01       0.01       0.01       0.01       0.01\n",
      "  0.01       0.01       0.01       0.01      ]\n",
      " [0.01       0.01       0.01       0.01       0.01       0.01\n",
      "  0.01       0.01       0.01       0.01       0.01       0.27011764\n",
      "  0.6932941  0.12258823 0.01       0.01       0.01       0.01\n",
      "  0.15752943 0.01776471 0.01       0.01       0.01       0.01\n",
      "  0.01       0.01       0.01       0.01      ]\n",
      " [0.01       0.01       0.01       0.01       0.01       0.01\n",
      "  0.01       0.01       0.01       0.01       0.24294119 0.8136471\n",
      "  0.32447058 0.01       0.01388235 0.02941176 0.14588237 0.6467059\n",
      "  0.4875294  0.01388235 0.01       0.01       0.01       0.01\n",
      "  0.01       0.01       0.01       0.01      ]\n",
      " [0.01       0.01       0.01       0.01       0.01       0.01\n",
      "  0.01       0.01       0.04882353 0.4642353  1.         1.\n",
      "  1.         1.         1.         1.         1.         1.\n",
      "  0.1847059  0.01       0.01       0.01       0.01       0.01\n",
      "  0.01       0.01       0.01       0.01      ]\n",
      " [0.01       0.01       0.01       0.01       0.01       0.01\n",
      "  0.01       0.01       0.08376471 0.46811765 0.5069412  0.44482353\n",
      "  0.51082355 0.5302353  0.5302353  0.5302353  0.5069412  0.29341176\n",
      "  0.01       0.01       0.01       0.01       0.01       0.01\n",
      "  0.01       0.01       0.01       0.01      ]\n",
      " [0.01       0.01       0.01       0.01       0.01       0.01\n",
      "  0.01       0.01       0.01       0.01       0.01       0.01\n",
      "  0.01       0.01       0.01       0.01       0.01       0.01\n",
      "  0.01       0.01       0.01       0.01       0.01       0.01\n",
      "  0.01       0.01       0.01       0.01      ]\n",
      " [0.01       0.01       0.01       0.01       0.01       0.01\n",
      "  0.01       0.01       0.01       0.01       0.01       0.01\n",
      "  0.01       0.01       0.01       0.01       0.01       0.01\n",
      "  0.01       0.01       0.01       0.01       0.01       0.01\n",
      "  0.01       0.01       0.01       0.01      ]\n",
      " [0.01       0.01       0.01       0.01       0.01       0.01\n",
      "  0.01       0.01       0.01       0.01       0.01       0.01\n",
      "  0.01       0.01       0.01       0.01       0.01       0.01\n",
      "  0.01       0.01       0.01       0.01       0.01       0.01\n",
      "  0.01       0.01       0.01       0.01      ]\n",
      " [0.01       0.01       0.01       0.01       0.01       0.01\n",
      "  0.01       0.01       0.01       0.01       0.01       0.01\n",
      "  0.01       0.01       0.01       0.01       0.01       0.01\n",
      "  0.01       0.01       0.01       0.01       0.01       0.01\n",
      "  0.01       0.01       0.01       0.01      ]\n",
      " [0.01       0.01       0.01       0.01       0.01       0.01\n",
      "  0.01       0.01       0.01       0.01       0.01       0.01\n",
      "  0.01       0.01       0.01       0.01       0.01       0.01\n",
      "  0.01       0.01       0.01       0.01       0.01       0.01\n",
      "  0.01       0.01       0.01       0.01      ]\n",
      " [0.01       0.01       0.01       0.01       0.01       0.01\n",
      "  0.01       0.01       0.01       0.01       0.01       0.01\n",
      "  0.01       0.01       0.01       0.01       0.01       0.01\n",
      "  0.01       0.01       0.01       0.01       0.01       0.01\n",
      "  0.01       0.01       0.01       0.01      ]\n",
      " [0.01       0.01       0.01       0.01       0.01       0.01\n",
      "  0.01       0.01       0.01       0.01       0.01       0.01\n",
      "  0.01       0.01       0.01       0.01       0.01       0.01\n",
      "  0.01       0.01       0.01       0.01       0.01       0.01\n",
      "  0.01       0.01       0.01       0.01      ]\n",
      " [0.01       0.01       0.01       0.01       0.01       0.01\n",
      "  0.01       0.01       0.01       0.01       0.01       0.01\n",
      "  0.01       0.01       0.01       0.01       0.01       0.01\n",
      "  0.01       0.01       0.01       0.01       0.01       0.01\n",
      "  0.01       0.01       0.01       0.01      ]\n",
      " [0.01       0.01       0.01       0.01       0.01       0.01\n",
      "  0.01       0.01       0.01       0.01       0.01       0.01\n",
      "  0.01       0.01       0.01       0.01       0.01       0.01\n",
      "  0.01       0.01       0.01       0.01       0.01       0.01\n",
      "  0.01       0.01       0.01       0.01      ]]\n"
     ]
    },
    {
     "data": {
      "image/png": "[encoded data removed]",
      "text/plain": [
       "<Figure size 432x288 with 1 Axes>"
      ]
     },
     "metadata": {
      "needs_background": "light"
     },
     "output_type": "display_data"
    },
    {
     "name": "stdout",
     "output_type": "stream",
     "text": [
      "[0.01       0.01       0.01       0.01       0.01       0.01\n",
      " 0.01       0.01       0.01       0.01       0.01       0.01\n",
      " 0.01       0.01       0.01       0.01       0.01       0.01\n",
      " 0.01       0.01       0.01       0.01       0.01       0.01\n",
      " 0.01       0.01       0.01       0.01       0.01       0.01\n",
      " 0.01       0.01       0.01       0.01       0.01       0.01\n",
      " 0.01       0.01       0.01       0.01       0.01       0.01\n",
      " 0.01       0.01       0.01       0.01       0.01       0.01\n",
      " 0.01       0.01       0.01       0.01       0.01       0.01\n",
      " 0.01       0.01       0.01       0.01       0.01       0.01\n",
      " 0.01       0.01       0.01       0.01       0.01       0.01\n",
      " 0.01       0.01       0.01       0.01       0.01       0.01\n",
      " 0.01       0.01       0.01       0.01       0.01       0.01\n",
      " 0.01       0.01       0.01       0.01       0.01       0.01\n",
      " 0.01       0.01       0.01       0.01       0.01       0.01\n",
      " 0.01       0.01       0.01       0.01       0.01       0.01\n",
      " 0.01       0.01       0.01       0.01       0.01       0.01\n",
      " 0.01       0.01       0.01       0.01       0.01       0.01\n",
      " 0.01       0.01       0.01       0.01       0.01       0.01\n",
      " 0.01       0.01       0.01       0.01       0.01       0.01\n",
      " 0.01       0.01       0.01       0.07211765 0.5224706  0.71658826\n",
      " 0.6195294  0.2972941  0.01       0.01       0.01       0.01\n",
      " 0.01       0.01       0.01       0.01       0.01       0.01\n",
      " 0.01       0.01       0.01       0.01       0.01       0.01\n",
      " 0.01       0.01       0.01       0.01       0.01       0.01\n",
      " 0.27400002 0.7942353  0.7942353  0.8447059  1.         1.\n",
      " 0.59623533 0.01776471 0.01       0.01       0.01       0.01\n",
      " 0.01       0.01       0.01       0.01       0.01       0.01\n",
      " 0.01       0.01       0.01       0.01       0.01       0.01\n",
      " 0.01       0.01       0.01       0.23905884 0.7049412  0.32835296\n",
      " 0.01       0.01       0.18858825 0.92235297 1.         0.35552943\n",
      " 0.01       0.01       0.01       0.01       0.01       0.01\n",
      " 0.01       0.01       0.01       0.01       0.01       0.01\n",
      " 0.01       0.01       0.01       0.01       0.01       0.01\n",
      " 0.01       0.34388235 0.2895294  0.01       0.01       0.01\n",
      " 0.01       0.50305885 1.         0.6117647  0.01       0.01\n",
      " 0.01       0.01       0.01       0.01       0.01       0.01\n",
      " 0.01       0.01       0.01       0.01       0.01       0.01\n",
      " 0.01       0.01       0.01       0.01       0.01       0.01\n",
      " 0.01       0.01       0.01       0.01       0.01       0.37105882\n",
      " 1.         0.6156471  0.01       0.01       0.01       0.01\n",
      " 0.01       0.01       0.01       0.01       0.01       0.01\n",
      " 0.01       0.01       0.01       0.01       0.01       0.01\n",
      " 0.01       0.01       0.01       0.01       0.01       0.01\n",
      " 0.01       0.01       0.01       0.43705884 1.         0.4215294\n",
      " 0.01       0.01       0.01       0.01       0.01       0.01\n",
      " 0.01       0.01       0.01       0.01       0.01       0.01\n",
      " 0.01       0.01       0.01       0.01       0.01       0.01\n",
      " 0.01       0.01       0.01       0.01       0.01       0.01\n",
      " 0.01       0.68941176 0.86800003 0.09152941 0.01       0.01\n",
      " 0.01       0.01       0.01       0.01       0.01       0.01\n",
      " 0.01       0.01       0.01       0.01       0.01       0.01\n",
      " 0.01       0.01       0.01       0.01       0.01       0.01\n",
      " 0.01       0.01       0.01       0.01       0.21964706 0.8874118\n",
      " 0.37494117 0.01       0.01       0.01       0.01       0.01\n",
      " 0.01       0.01       0.01       0.01       0.01       0.01\n",
      " 0.01       0.01       0.01       0.01       0.01       0.01\n",
      " 0.01       0.01       0.01       0.01       0.01       0.01\n",
      " 0.01       0.01388235 0.68941176 0.5574118  0.01       0.01\n",
      " 0.01       0.01       0.01       0.01       0.01       0.01\n",
      " 0.01       0.01       0.01       0.01       0.01       0.01\n",
      " 0.01       0.01       0.01       0.01       0.01       0.01\n",
      " 0.01       0.01       0.01       0.01       0.01       0.46811765\n",
      " 0.6350588  0.02941176 0.01       0.01       0.01       0.01\n",
      " 0.01       0.01       0.01       0.01       0.01       0.01\n",
      " 0.01       0.01       0.01       0.01       0.01       0.01\n",
      " 0.01       0.01       0.01       0.01       0.01       0.01\n",
      " 0.01       0.01       0.36329412 0.68164706 0.09541176 0.01\n",
      " 0.01       0.01       0.01       0.01       0.01       0.01\n",
      " 0.01       0.01       0.01       0.01       0.01       0.01\n",
      " 0.01       0.01       0.01       0.01       0.01       0.01\n",
      " 0.01       0.01       0.01       0.01       0.01       0.27011764\n",
      " 0.6932941  0.12258823 0.01       0.01       0.01       0.01\n",
      " 0.15752943 0.01776471 0.01       0.01       0.01       0.01\n",
      " 0.01       0.01       0.01       0.01       0.01       0.01\n",
      " 0.01       0.01       0.01       0.01       0.01       0.01\n",
      " 0.01       0.01       0.24294119 0.8136471  0.32447058 0.01\n",
      " 0.01388235 0.02941176 0.14588237 0.6467059  0.4875294  0.01388235\n",
      " 0.01       0.01       0.01       0.01       0.01       0.01\n",
      " 0.01       0.01       0.01       0.01       0.01       0.01\n",
      " 0.01       0.01       0.01       0.01       0.04882353 0.4642353\n",
      " 1.         1.         1.         1.         1.         1.\n",
      " 1.         1.         0.1847059  0.01       0.01       0.01\n",
      " 0.01       0.01       0.01       0.01       0.01       0.01\n",
      " 0.01       0.01       0.01       0.01       0.01       0.01\n",
      " 0.01       0.01       0.08376471 0.46811765 0.5069412  0.44482353\n",
      " 0.51082355 0.5302353  0.5302353  0.5302353  0.5069412  0.29341176\n",
      " 0.01       0.01       0.01       0.01       0.01       0.01\n",
      " 0.01       0.01       0.01       0.01       0.01       0.01\n",
      " 0.01       0.01       0.01       0.01       0.01       0.01\n",
      " 0.01       0.01       0.01       0.01       0.01       0.01\n",
      " 0.01       0.01       0.01       0.01       0.01       0.01\n",
      " 0.01       0.01       0.01       0.01       0.01       0.01\n",
      " 0.01       0.01       0.01       0.01       0.01       0.01\n",
      " 0.01       0.01       0.01       0.01       0.01       0.01\n",
      " 0.01       0.01       0.01       0.01       0.01       0.01\n",
      " 0.01       0.01       0.01       0.01       0.01       0.01\n",
      " 0.01       0.01       0.01       0.01       0.01       0.01\n",
      " 0.01       0.01       0.01       0.01       0.01       0.01\n",
      " 0.01       0.01       0.01       0.01       0.01       0.01\n",
      " 0.01       0.01       0.01       0.01       0.01       0.01\n",
      " 0.01       0.01       0.01       0.01       0.01       0.01\n",
      " 0.01       0.01       0.01       0.01       0.01       0.01\n",
      " 0.01       0.01       0.01       0.01       0.01       0.01\n",
      " 0.01       0.01       0.01       0.01       0.01       0.01\n",
      " 0.01       0.01       0.01       0.01       0.01       0.01\n",
      " 0.01       0.01       0.01       0.01       0.01       0.01\n",
      " 0.01       0.01       0.01       0.01       0.01       0.01\n",
      " 0.01       0.01       0.01       0.01       0.01       0.01\n",
      " 0.01       0.01       0.01       0.01       0.01       0.01\n",
      " 0.01       0.01       0.01       0.01       0.01       0.01\n",
      " 0.01       0.01       0.01       0.01       0.01       0.01\n",
      " 0.01       0.01       0.01       0.01       0.01       0.01\n",
      " 0.01       0.01       0.01       0.01       0.01       0.01\n",
      " 0.01       0.01       0.01       0.01       0.01       0.01\n",
      " 0.01       0.01       0.01       0.01       0.01       0.01\n",
      " 0.01       0.01       0.01       0.01       0.01       0.01\n",
      " 0.01       0.01       0.01       0.01       0.01       0.01\n",
      " 0.01       0.01       0.01       0.01       0.01       0.01\n",
      " 0.01       0.01       0.01       0.01       0.01       0.01\n",
      " 0.01       0.01       0.01       0.01       0.01       0.01\n",
      " 0.01       0.01       0.01       0.01       0.01       0.01\n",
      " 0.01       0.01       0.01       0.01       0.01       0.01\n",
      " 0.01       0.01       0.01       0.01       0.01       0.01\n",
      " 0.01       0.01       0.01       0.01       0.01       0.01\n",
      " 0.01       0.01       0.01       0.01       0.01       0.01\n",
      " 0.01       0.01       0.01       0.01       0.01       0.01\n",
      " 0.01       0.01       0.01       0.01       0.01       0.01\n",
      " 0.01       0.01       0.01       0.01       0.01       0.01\n",
      " 0.01       0.01       0.01       0.01       0.01       0.01\n",
      " 0.01       0.01       0.01       0.01      ]\n"
     ]
    }
   ],
   "source": [
    "data_file = open(\"mnist_dataset/mnist_train_100.csv\", 'r')\n",
    "data_list = data_file.readlines()\n",
    "data_file.close()\n",
    "\n",
    "def display_line(data_line):\n",
    "    data_values = data_line.split(\",\")\n",
    "    print(\"数字为\", data_values[0])\n",
    "    image_array = numpy.asfarray(data_values[1:]).reshape((28,28))\n",
    "    matplotlib.pyplot.imshow(image_array, cmap=\"Greys\")\n",
    "    # imshow(a) will plot the values of the array a as pixel values, \n",
    "    # but it won't display the plot. To view the image after each iteration\n",
    "    # of the for loop, you need to add show().\n",
    "    matplotlib.pyplot.show()\n",
    "    pass\n",
    "\n",
    "import imageio\n",
    "import glob\n",
    "\n",
    "for image_file_name in glob.glob('my_own_images/2828_my_own_2.png'):\n",
    "    image_array = imageio.imread(image_file_name, as_gray=True)\n",
    "    print(image_array)\n",
    "    matplotlib.pyplot.imshow(image_array, cmap=\"Greys\")\n",
    "    matplotlib.pyplot.show()\n",
    "    \n",
    "    image_data = 255.0 - image_array\n",
    "    image_data = image_data / 255.0 * 0.99 + 0.01\n",
    "    print(image_data)\n",
    "    matplotlib.pyplot.imshow(image_data, cmap=\"Greys\")\n",
    "    matplotlib.pyplot.show()\n",
    "    \n",
    "    test_data = image_data.reshape(784)\n",
    "    print(test_data)\n",
    "\n",
    "    pass"
   ]
  },
  {
   "cell_type": "code",
   "execution_count": 14,
   "metadata": {
    "ExecuteTime": {
     "end_time": "2020-02-09T07:55:19.694677Z",
     "start_time": "2020-02-09T07:55:19.512461Z"
    }
   },
   "outputs": [
    {
     "data": {
      "image/png": "[encoded data removed]",
      "text/plain": [
       "<Figure size 432x288 with 1 Axes>"
      ]
     },
     "metadata": {
      "needs_background": "light"
     },
     "output_type": "display_data"
    }
   ],
   "source": [
    "fig = matplotlib.pyplot.figure() \n",
    "ax = fig.add_subplot(111) \n",
    "ax.set(xlim=[0, 20], ylim=[0.8, 1.0], title='performance & hidden_nodes', ylabel='performance', xlabel='hidden_nodes')\n",
    "ax.yaxis.grid(True)\n",
    "ax.plot(x_list, y_list, 'bo--')\n",
    "fig.show()"
   ]
  }
 ],
 "metadata": {
  "kernelspec": {
   "display_name": "Python 3",
   "language": "python",
   "name": "python3"
  },
  "language_info": {
   "codemirror_mode": {
    "name": "ipython",
    "version": 3
   },
   "file_extension": ".py",
   "mimetype": "text/x-python",
   "name": "python",
   "nbconvert_exporter": "python",
   "pygments_lexer": "ipython3",
   "version": "3.7.4"
  },
  "toc": {
   "base_numbering": 1,
   "nav_menu": {
    "height": "356.997px",
    "width": "597.986px"
   },
   "number_sections": true,
   "sideBar": true,
   "skip_h1_title": false,
   "title_cell": "Table of Contents",
   "title_sidebar": "Contents",
   "toc_cell": false,
   "toc_position": {},
   "toc_section_display": true,
   "toc_window_display": true
  },
  "varInspector": {
   "cols": {
    "lenName": 16,
    "lenType": 16,
    "lenVar": 40
   },
   "kernels_config": {
    "python": {
     "delete_cmd_postfix": "",
     "delete_cmd_prefix": "del ",
     "library": "var_list.py",
     "varRefreshCmd": "print(var_dic_list())"
    },
    "r": {
     "delete_cmd_postfix": ") ",
     "delete_cmd_prefix": "rm(",
     "library": "var_list.r",
     "varRefreshCmd": "cat(var_dic_list()) "
    }
   },
   "oldHeight": 478.81978,
   "position": {
    "height": "501.042px",
    "left": "1183.67px",
    "right": "20px",
    "top": "74px",
    "width": "402.622px"
   },
   "types_to_exclude": [
    "module",
    "function",
    "builtin_function_or_method",
    "instance",
    "_Feature"
   ],
   "varInspector_section_display": "block",
   "window_display": false
  }
 },
 "nbformat": 4,
 "nbformat_minor": 2
}
